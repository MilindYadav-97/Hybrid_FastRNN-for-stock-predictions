{
  "nbformat": 4,
  "nbformat_minor": 0,
  "metadata": {
    "colab": {
      "name": "To Send(Edited of 0308).ipynb",
      "provenance": [],
      "collapsed_sections": []
    },
    "kernelspec": {
      "display_name": "Python 3",
      "language": "python",
      "name": "python3"
    },
    "language_info": {
      "codemirror_mode": {
        "name": "ipython",
        "version": 3
      },
      "file_extension": ".py",
      "mimetype": "text/x-python",
      "name": "python",
      "nbconvert_exporter": "python",
      "pygments_lexer": "ipython3",
      "version": "3.7.3"
    }
  },
  "cells": [
    {
      "cell_type": "code",
      "metadata": {
        "id": "ku6MNVxRpTPc",
        "colab_type": "code",
        "colab": {}
      },
      "source": [
        "import pandas as pd\n",
        "from datetime import datetime\n",
        "import time\n",
        "import"
      ],
      "execution_count": null,
      "outputs": []
    },
    {
      "cell_type": "code",
      "metadata": {
        "colab_type": "code",
        "id": "O49vj8RKXLM9",
        "colab": {}
      },
      "source": [
        "# Query to download the dataset (contains the stock prices data of 1 day minute wise from 2nd last week of July 2020)\n",
        "\n",
        "\n",
        "# while True:\n",
        "# ping = requests.get('https://query1.finance.yahoo.com/v8/finance/chart/%5ENSEI?range=3d&interval=1m').json()\n",
        "# close = ping['chart']['result'][0]['indicators']['quote'][0]['close']\n",
        "# timestamp = ping['chart']['result'][0]['timestamp']\n",
        "# data_1 = pd.DataFrame({'Close': close, 'Time':timestamp})\n",
        "# data_1['Time_b'] = [datetime.fromtimestamp(x) for x in data_1['Time']]\n",
        "# data_1.drop('Time', axis=1,inplace=True)\n",
        "# data_1.set_index('Time_b',inplace=True)"
      ],
      "execution_count": null,
      "outputs": []
    },
    {
      "cell_type": "code",
      "metadata": {
        "id": "oFWsYsb2Axpw",
        "colab_type": "code",
        "colab": {}
      },
      "source": [
        "# Check Google Colab system specs:\n",
        "\n",
        "\n",
        "# !lscpu |grep 'Model name'\n",
        "# !lscpu | grep 'Socket(s):'\n",
        "# !lscpu | grep 'Core(s) per socket:'\n",
        "# !lscpu | grep 'Thread(s) per core'\n",
        "# !lscpu | grep \"L3 cache\" \n",
        "# !lscpu | grep \"MHz\"\n"
      ],
      "execution_count": null,
      "outputs": []
    },
    {
      "cell_type": "code",
      "metadata": {
        "id": "7O-GEm4EirDV",
        "colab_type": "code",
        "colab": {}
      },
      "source": [
        "data_1=pd.read_csv('UBER_2.csv')\n"
      ],
      "execution_count": null,
      "outputs": []
    },
    {
      "cell_type": "code",
      "metadata": {
        "id": "wSs6V8OHPiX3",
        "colab_type": "code",
        "colab": {
          "base_uri": "https://localhost:8080/",
          "height": 145
        },
        "outputId": "3d2a1d2f-74c6-49f8-dc65-bd78fad9e725"
      },
      "source": [
        "print(len(data_1))\n",
        "data_1=data_1.reset_index()\n",
        "print(data_1.head())"
      ],
      "execution_count": null,
      "outputs": [
        {
          "output_type": "stream",
          "text": [
            "390\n",
            "   index               Time_b      Close\n",
            "0      0  2020-07-22 13:30:00  32.490002\n",
            "1      1  2020-07-22 13:31:00  32.639999\n",
            "2      2  2020-07-22 13:32:00  32.669998\n",
            "3      3  2020-07-22 13:33:00  32.799999\n",
            "4      4  2020-07-22 13:34:00  32.610001\n"
          ],
          "name": "stdout"
        }
      ]
    },
    {
      "cell_type": "code",
      "metadata": {
        "colab_type": "code",
        "id": "AwqXkjQTNVfI",
        "colab": {}
      },
      "source": [
        "import numpy as np\n",
        "import pandas as pd\n",
        "import io"
      ],
      "execution_count": null,
      "outputs": []
    },
    {
      "cell_type": "markdown",
      "metadata": {
        "colab_type": "text",
        "id": "jIldrdsQIMxf"
      },
      "source": [
        "Load the required files before proceeding further:"
      ]
    },
    {
      "cell_type": "code",
      "metadata": {
        "colab_type": "code",
        "id": "1OsjgxmazHe_",
        "colab": {}
      },
      "source": [
        "df = data_1"
      ],
      "execution_count": null,
      "outputs": []
    },
    {
      "cell_type": "code",
      "metadata": {
        "colab_type": "code",
        "id": "1Z_5eJhINsZZ",
        "colab": {
          "base_uri": "https://localhost:8080/",
          "height": 35
        },
        "outputId": "657c6995-5ad3-4742-c7d6-4b21c7b83f7e"
      },
      "source": [
        "%tensorflow_version 1.x\n",
        "import helpermethods\n",
        "import tensorflow as tf\n",
        "import numpy as np\n",
        "import sys\n",
        "import os\n",
        "from tensorflow.keras.layers import Dense, Input, RNN\n",
        "from tensorflow.keras.models import Model, Sequential, load_model\n",
        "from tensorflow.keras import backend as K\n",
        "from tensorflow.keras.optimizers import Adam"
      ],
      "execution_count": null,
      "outputs": [
        {
          "output_type": "stream",
          "text": [
            "TensorFlow 1.x selected.\n"
          ],
          "name": "stdout"
        }
      ]
    },
    {
      "cell_type": "code",
      "metadata": {
        "colab_type": "code",
        "id": "vtnmHM-pnn0B",
        "colab": {
          "base_uri": "https://localhost:8080/",
          "height": 35
        },
        "outputId": "25c9b486-3845-46fb-a8c3-7e8422392cd1"
      },
      "source": [
        "print(tf.__version__)"
      ],
      "execution_count": null,
      "outputs": [
        {
          "output_type": "stream",
          "text": [
            "1.15.2\n"
          ],
          "name": "stdout"
        }
      ]
    },
    {
      "cell_type": "code",
      "metadata": {
        "colab_type": "code",
        "id": "g5TT_EX-N0dx",
        "colab": {}
      },
      "source": [
        "#Import keras grnn\n",
        "from rnn import FastGRNNCellKeras, FastRNNCellKeras"
      ],
      "execution_count": null,
      "outputs": []
    },
    {
      "cell_type": "markdown",
      "metadata": {
        "colab_type": "text",
        "id": "MbrEL7OdIqJM"
      },
      "source": [
        "Data Preprocessing"
      ]
    },
    {
      "cell_type": "code",
      "metadata": {
        "colab_type": "code",
        "id": "FgyGwHV7U0Ke",
        "colab": {}
      },
      "source": [
        "import math\n",
        "from sklearn.preprocessing import MinMaxScaler\n",
        "from sklearn.metrics import mean_squared_error "
      ],
      "execution_count": null,
      "outputs": []
    },
    {
      "cell_type": "code",
      "metadata": {
        "colab_type": "code",
        "id": "lJgCAv9xblWl",
        "colab": {
          "base_uri": "https://localhost:8080/",
          "height": 54
        },
        "outputId": "fb7ec36b-57be-4d40-cdfa-eba790db1a6a"
      },
      "source": [
        "print(len(df))\n",
        "df = df[df['Close'].notna()]\n",
        "print(len(df))"
      ],
      "execution_count": null,
      "outputs": [
        {
          "output_type": "stream",
          "text": [
            "390\n",
            "389\n"
          ],
          "name": "stdout"
        }
      ]
    },
    {
      "cell_type": "code",
      "metadata": {
        "colab_type": "code",
        "id": "YHk32cpVbA88",
        "colab": {}
      },
      "source": [
        "data = pd.DataFrame()\n",
        "data['Close']=df['Close']"
      ],
      "execution_count": null,
      "outputs": []
    },
    {
      "cell_type": "code",
      "metadata": {
        "colab_type": "code",
        "id": "UN2fZrfYbc5n",
        "colab": {
          "base_uri": "https://localhost:8080/",
          "height": 90
        },
        "outputId": "d3b4a0a8-e11e-436e-ec1e-c11931479a7a"
      },
      "source": [
        "count_nan = len(df) - df.count()\n",
        "print(count_nan)"
      ],
      "execution_count": null,
      "outputs": [
        {
          "output_type": "stream",
          "text": [
            "index     0\n",
            "Time_b    0\n",
            "Close     0\n",
            "dtype: int64\n"
          ],
          "name": "stdout"
        }
      ]
    },
    {
      "cell_type": "markdown",
      "metadata": {
        "id": "Ji6GD8Rp557i",
        "colab_type": "text"
      },
      "source": [
        "## FastRNN"
      ]
    },
    {
      "cell_type": "code",
      "metadata": {
        "colab_type": "code",
        "id": "4ia3EDW2Uddv",
        "colab": {}
      },
      "source": [
        "\n",
        "#Converting the dataframe to a numpy array\n",
        "dataset = data.values\n",
        "#Get /Compute the number of rows to train the model on\n",
        "# training_data_len = math.ceil( len(dataset) *.6)\n",
        "training_data_len = math.ceil( len(dataset)- 50) \n",
        "\n",
        "\n",
        "\n",
        "#Scale the all of the data to be values between 0 and 1 \n",
        "scaler = MinMaxScaler(feature_range=(0, 1)) \n",
        "scaled_data = scaler.fit_transform(dataset)\n",
        "\n",
        "\n",
        "#Create the scaled training data set \n",
        "train_data = scaled_data[0:training_data_len  , : ]\n",
        "#Split the data into x_train and y_train data sets\n",
        "x_train=[]\n",
        "y_train = []\n",
        "for i in range(10,len(train_data)):\n",
        "    x_train.append(train_data[i-10:i,0])\n",
        "    y_train.append(train_data[i,0])\n",
        "\n",
        "\n",
        "#Convert x_train and y_train to numpy arrays\n",
        "x_train, y_train = np.array(x_train), np.array(y_train)    \n",
        "\n",
        "\n",
        "#Reshape the data into the shape accepted by the LSTM\n",
        "x_train = np.reshape(x_train, (x_train.shape[0],x_train.shape[1],1))"
      ],
      "execution_count": null,
      "outputs": []
    },
    {
      "cell_type": "code",
      "metadata": {
        "colab_type": "code",
        "id": "uTip75ZPs_2t",
        "colab": {}
      },
      "source": [
        "\n",
        "#Test data set\n",
        "test_data = scaled_data[training_data_len - 10: , : ]\n",
        "#Create the x_test and y_test data sets\n",
        "x_test = []\n",
        "y_test =  dataset[training_data_len : , : ] \n",
        "for i in range(10,len(test_data)):\n",
        "    x_test.append(test_data[i-10:i,0])\n",
        "\n",
        "\n",
        "\n",
        "#Convert x_test to a numpy array \n",
        "x_test = np.array(x_test)\n",
        "\n",
        "#Reshape the data into the shape accepted by the LSTM\n",
        "x_test = np.reshape(x_test, (x_test.shape[0],x_test.shape[1],1))"
      ],
      "execution_count": null,
      "outputs": []
    },
    {
      "cell_type": "code",
      "metadata": {
        "colab_type": "code",
        "id": "FxedeCKyODCK",
        "colab": {}
      },
      "source": [
        "# dataDimension = int(x_train.shape[1]) - 1\n",
        "dataDimension = int(x_train.shape[1]) \n",
        "# print(dataDimension)"
      ],
      "execution_count": null,
      "outputs": []
    },
    {
      "cell_type": "code",
      "metadata": {
        "colab_type": "code",
        "id": "d3tfurMcUQy4",
        "colab": {}
      },
      "source": [
        "cell = \"FastRNN\" # Choose between FastGRNN, FastRNN  ###, UGRNN, GRU and LSTM\n",
        " \n",
        "inputDims = 10 #features taken in by RNN in one timestep\n",
        "hiddenDims = 50 #hidden state of RNN\n",
        " \n",
        "totalEpochs = 40\n",
        "batchSize = 10\n",
        " \n",
        "learningRate = 0.001 \n",
        "decayStep = 50\n",
        "decayRate = 0.1\n",
        " \n",
        "outFile = None #provide your file, if you need all the logging info in a file\n",
        " \n",
        "#low-rank parameterisation for weight matrices. None => Full Rank\n",
        "wRank = None \n",
        "uRank = None \n",
        " \n",
        "# Sparsity of the weight matrices. x => 100*x % are non-zeros\n",
        "# Note: Sparsity inducing is not supported in this code. \n",
        "sW = 1.0 \n",
        "sU = 1.0\n",
        " \n",
        "#Non-linearities for the RNN architecture. Can choose from \"tanh, sigmoid, relu, quantTanh, quantSigm\"\n",
        "update_non_linearity = \"relu\"\n",
        "gate_non_linearity = \"relu\""
      ],
      "execution_count": null,
      "outputs": []
    },
    {
      "cell_type": "code",
      "metadata": {
        "colab_type": "code",
        "id": "SQBrgqjkF8qz",
        "colab": {}
      },
      "source": [
        "assert dataDimension % inputDims == 0, \"Infeasible per step input, Timesteps have to be integer\"\n"
      ],
      "execution_count": null,
      "outputs": []
    },
    {
      "cell_type": "code",
      "metadata": {
        "colab_type": "code",
        "id": "sAVgj0mYh-he",
        "colab": {}
      },
      "source": [
        "cell == \"FastRNN\"\n",
        "FastCell = FastRNNCellKeras(hiddenDims, #gate_non_linearity=gate_non_linearity,\n",
        "                        update_non_linearity=update_non_linearity,\n",
        "                        wRank=wRank, uRank=uRank)\n"
      ],
      "execution_count": null,
      "outputs": []
    },
    {
      "cell_type": "code",
      "metadata": {
        "colab_type": "code",
        "id": "73q6BOBO7soH",
        "colab": {}
      },
      "source": [
        "from tensorflow.keras import layers\n"
      ],
      "execution_count": null,
      "outputs": []
    },
    {
      "cell_type": "code",
      "metadata": {
        "colab_type": "code",
        "id": "weTTQGmwmr5F",
        "colab": {}
      },
      "source": [
        "# print(tf.keras.__version__)"
      ],
      "execution_count": null,
      "outputs": []
    },
    {
      "cell_type": "markdown",
      "metadata": {
        "colab_type": "text",
        "id": "VsEYrwD7JHQq"
      },
      "source": [
        "Create Model"
      ]
    },
    {
      "cell_type": "code",
      "metadata": {
        "colab_type": "code",
        "id": "5_-ZEVwrl-13",
        "colab": {
          "base_uri": "https://localhost:8080/",
          "height": 35
        },
        "outputId": "f7c41b27-37ee-41d0-c52a-d0842e5c2886"
      },
      "source": [
        "x = inputs = Input(shape=[int(dataDimension / inputDims), inputDims], name='input')\n",
        "layer_shape = K.int_shape(x)#x.get_shape()\n",
        "print(layer_shape)\n",
        "x = RNN(FastCell, return_sequences=False, name='rnn')(x)\n",
        "#x = RNN(FastCell_1, return_sequences=True, name='rnn1')(x)\n",
        "\n",
        "\n",
        "out = Dense(1, activation='relu', name='dense')(x)\n",
        "model = Model(inputs=inputs, outputs=out)\n",
        "Adam_ = Adam(lr=0.001)\n",
        "model.compile(optimizer=Adam_, loss='mean_squared_error', metrics=['accuracy'])\n",
        "\n",
        "# model.summary()"
      ],
      "execution_count": null,
      "outputs": [
        {
          "output_type": "stream",
          "text": [
            "(None, 1, 10)\n"
          ],
          "name": "stdout"
        }
      ]
    },
    {
      "cell_type": "code",
      "metadata": {
        "colab_type": "code",
        "id": "3M5yZa52XJ7N",
        "colab": {
          "base_uri": "https://localhost:8080/",
          "height": 90
        },
        "outputId": "ca52466d-0450-4a36-8781-9df13ebcc4b4"
      },
      "source": [
        "print(x_train.shape)\n",
        "x_train = np.reshape(x_train,[x_train.shape[0],1,10])\n",
        "print(x_test.shape)\n",
        "x_test = np.reshape(x_test,[x_test.shape[0],1,10])\n",
        "print(x_train.shape)\n",
        "print(x_test.shape)"
      ],
      "execution_count": null,
      "outputs": [
        {
          "output_type": "stream",
          "text": [
            "(329, 1, 10)\n",
            "(50, 1, 10)\n",
            "(329, 1, 10)\n",
            "(50, 1, 10)\n"
          ],
          "name": "stdout"
        }
      ]
    },
    {
      "cell_type": "code",
      "metadata": {
        "colab_type": "code",
        "id": "caC82a529ZCk",
        "colab": {}
      },
      "source": [
        "import time\n",
        "from keras.callbacks import CSVLogger"
      ],
      "execution_count": null,
      "outputs": []
    },
    {
      "cell_type": "code",
      "metadata": {
        "colab_type": "code",
        "id": "vGAGVKNIXu1m",
        "colab": {}
      },
      "source": [
        "csv_logger=0\n",
        "csv_logger = CSVLogger(\"model_history_log_fastrnn.csv\", append=False)\n"
      ],
      "execution_count": null,
      "outputs": []
    },
    {
      "cell_type": "code",
      "metadata": {
        "colab_type": "code",
        "id": "oJHvcDEXcFz7",
        "colab": {
          "base_uri": "https://localhost:8080/",
          "height": 1000
        },
        "outputId": "3db9650e-a5b6-4698-e7d0-404250d9dc93"
      },
      "source": [
        "start = time.time()\n",
        "model.fit(x_train, y_train, batchSize, epochs=totalEpochs, validation_data=(x_test, scaled_data[training_data_len : , : ]), callbacks=[csv_logger])\n",
        "stop = time.time()\n",
        "print(f\"Training time: {stop - start}s\")"
      ],
      "execution_count": null,
      "outputs": [
        {
          "output_type": "stream",
          "text": [
            "Train on 329 samples, validate on 50 samples\n",
            "Epoch 1/40\n",
            "329/329 [==============================] - 0s 232us/sample - loss: 0.0066 - acc: 0.0091 - val_loss: 0.0029 - val_acc: 0.0000e+00\n",
            "Epoch 2/40\n",
            "329/329 [==============================] - 0s 217us/sample - loss: 0.0065 - acc: 0.0091 - val_loss: 0.0031 - val_acc: 0.0000e+00\n",
            "Epoch 3/40\n",
            "329/329 [==============================] - 0s 223us/sample - loss: 0.0062 - acc: 0.0091 - val_loss: 0.0030 - val_acc: 0.0000e+00\n",
            "Epoch 4/40\n",
            "329/329 [==============================] - 0s 219us/sample - loss: 0.0061 - acc: 0.0091 - val_loss: 0.0027 - val_acc: 0.0000e+00\n",
            "Epoch 5/40\n",
            "329/329 [==============================] - 0s 216us/sample - loss: 0.0060 - acc: 0.0091 - val_loss: 0.0031 - val_acc: 0.0000e+00\n",
            "Epoch 6/40\n",
            "329/329 [==============================] - 0s 219us/sample - loss: 0.0060 - acc: 0.0091 - val_loss: 0.0026 - val_acc: 0.0000e+00\n",
            "Epoch 7/40\n",
            "329/329 [==============================] - 0s 215us/sample - loss: 0.0059 - acc: 0.0091 - val_loss: 0.0031 - val_acc: 0.0000e+00\n",
            "Epoch 8/40\n",
            "329/329 [==============================] - 0s 224us/sample - loss: 0.0058 - acc: 0.0091 - val_loss: 0.0033 - val_acc: 0.0000e+00\n",
            "Epoch 9/40\n",
            "329/329 [==============================] - 0s 215us/sample - loss: 0.0057 - acc: 0.0091 - val_loss: 0.0030 - val_acc: 0.0000e+00\n",
            "Epoch 10/40\n",
            "329/329 [==============================] - 0s 254us/sample - loss: 0.0055 - acc: 0.0091 - val_loss: 0.0027 - val_acc: 0.0000e+00\n",
            "Epoch 11/40\n",
            "329/329 [==============================] - 0s 247us/sample - loss: 0.0054 - acc: 0.0091 - val_loss: 0.0025 - val_acc: 0.0000e+00\n",
            "Epoch 12/40\n",
            "329/329 [==============================] - 0s 229us/sample - loss: 0.0054 - acc: 0.0091 - val_loss: 0.0025 - val_acc: 0.0000e+00\n",
            "Epoch 13/40\n",
            "329/329 [==============================] - 0s 247us/sample - loss: 0.0053 - acc: 0.0091 - val_loss: 0.0024 - val_acc: 0.0000e+00\n",
            "Epoch 14/40\n",
            "329/329 [==============================] - 0s 262us/sample - loss: 0.0053 - acc: 0.0091 - val_loss: 0.0023 - val_acc: 0.0000e+00\n",
            "Epoch 15/40\n",
            "329/329 [==============================] - 0s 250us/sample - loss: 0.0052 - acc: 0.0091 - val_loss: 0.0022 - val_acc: 0.0000e+00\n",
            "Epoch 16/40\n",
            "329/329 [==============================] - 0s 240us/sample - loss: 0.0053 - acc: 0.0091 - val_loss: 0.0022 - val_acc: 0.0000e+00\n",
            "Epoch 17/40\n",
            "329/329 [==============================] - 0s 249us/sample - loss: 0.0051 - acc: 0.0091 - val_loss: 0.0023 - val_acc: 0.0000e+00\n",
            "Epoch 18/40\n",
            "329/329 [==============================] - 0s 234us/sample - loss: 0.0050 - acc: 0.0091 - val_loss: 0.0021 - val_acc: 0.0000e+00\n",
            "Epoch 19/40\n",
            "329/329 [==============================] - 0s 217us/sample - loss: 0.0051 - acc: 0.0091 - val_loss: 0.0021 - val_acc: 0.0000e+00\n",
            "Epoch 20/40\n",
            "329/329 [==============================] - 0s 217us/sample - loss: 0.0049 - acc: 0.0091 - val_loss: 0.0023 - val_acc: 0.0000e+00\n",
            "Epoch 21/40\n",
            "329/329 [==============================] - 0s 218us/sample - loss: 0.0048 - acc: 0.0091 - val_loss: 0.0023 - val_acc: 0.0000e+00\n",
            "Epoch 22/40\n",
            "329/329 [==============================] - 0s 245us/sample - loss: 0.0048 - acc: 0.0091 - val_loss: 0.0021 - val_acc: 0.0000e+00\n",
            "Epoch 23/40\n",
            "329/329 [==============================] - 0s 215us/sample - loss: 0.0048 - acc: 0.0091 - val_loss: 0.0021 - val_acc: 0.0000e+00\n",
            "Epoch 24/40\n",
            "329/329 [==============================] - 0s 221us/sample - loss: 0.0047 - acc: 0.0091 - val_loss: 0.0021 - val_acc: 0.0000e+00\n",
            "Epoch 25/40\n",
            "329/329 [==============================] - 0s 222us/sample - loss: 0.0047 - acc: 0.0091 - val_loss: 0.0021 - val_acc: 0.0000e+00\n",
            "Epoch 26/40\n",
            "329/329 [==============================] - 0s 217us/sample - loss: 0.0047 - acc: 0.0091 - val_loss: 0.0020 - val_acc: 0.0000e+00\n",
            "Epoch 27/40\n",
            "329/329 [==============================] - 0s 213us/sample - loss: 0.0047 - acc: 0.0091 - val_loss: 0.0021 - val_acc: 0.0000e+00\n",
            "Epoch 28/40\n",
            "329/329 [==============================] - 0s 214us/sample - loss: 0.0046 - acc: 0.0091 - val_loss: 0.0024 - val_acc: 0.0000e+00\n",
            "Epoch 29/40\n",
            "329/329 [==============================] - 0s 214us/sample - loss: 0.0047 - acc: 0.0091 - val_loss: 0.0024 - val_acc: 0.0000e+00\n",
            "Epoch 30/40\n",
            "329/329 [==============================] - 0s 213us/sample - loss: 0.0046 - acc: 0.0091 - val_loss: 0.0020 - val_acc: 0.0000e+00\n",
            "Epoch 31/40\n",
            "329/329 [==============================] - 0s 249us/sample - loss: 0.0045 - acc: 0.0091 - val_loss: 0.0020 - val_acc: 0.0000e+00\n",
            "Epoch 32/40\n",
            "329/329 [==============================] - 0s 213us/sample - loss: 0.0045 - acc: 0.0091 - val_loss: 0.0019 - val_acc: 0.0000e+00\n",
            "Epoch 33/40\n",
            "329/329 [==============================] - 0s 228us/sample - loss: 0.0045 - acc: 0.0091 - val_loss: 0.0019 - val_acc: 0.0000e+00\n",
            "Epoch 34/40\n",
            "329/329 [==============================] - 0s 230us/sample - loss: 0.0045 - acc: 0.0091 - val_loss: 0.0023 - val_acc: 0.0000e+00\n",
            "Epoch 35/40\n",
            "329/329 [==============================] - 0s 282us/sample - loss: 0.0045 - acc: 0.0091 - val_loss: 0.0019 - val_acc: 0.0000e+00\n",
            "Epoch 36/40\n",
            "329/329 [==============================] - 0s 251us/sample - loss: 0.0044 - acc: 0.0091 - val_loss: 0.0020 - val_acc: 0.0000e+00\n",
            "Epoch 37/40\n",
            "329/329 [==============================] - 0s 222us/sample - loss: 0.0044 - acc: 0.0091 - val_loss: 0.0019 - val_acc: 0.0000e+00\n",
            "Epoch 38/40\n",
            "329/329 [==============================] - 0s 220us/sample - loss: 0.0044 - acc: 0.0091 - val_loss: 0.0021 - val_acc: 0.0000e+00\n",
            "Epoch 39/40\n",
            "329/329 [==============================] - 0s 221us/sample - loss: 0.0043 - acc: 0.0091 - val_loss: 0.0020 - val_acc: 0.0000e+00\n",
            "Epoch 40/40\n",
            "329/329 [==============================] - 0s 217us/sample - loss: 0.0044 - acc: 0.0091 - val_loss: 0.0022 - val_acc: 0.0000e+00\n",
            "Training time: 3.157587766647339s\n"
          ],
          "name": "stdout"
        }
      ]
    },
    {
      "cell_type": "code",
      "metadata": {
        "id": "ktRMI5GpYsHd",
        "colab_type": "code",
        "colab": {}
      },
      "source": [
        "performance_log_fastrnn=pd.read_csv('model_history_log_fastrnn.csv')\n"
      ],
      "execution_count": null,
      "outputs": []
    },
    {
      "cell_type": "code",
      "metadata": {
        "id": "gqYs0m4oZTY0",
        "colab_type": "code",
        "colab": {}
      },
      "source": [
        "# print(performance_log_fastrnn)"
      ],
      "execution_count": null,
      "outputs": []
    },
    {
      "cell_type": "code",
      "metadata": {
        "id": "cHPPCvE-aP-4",
        "colab_type": "code",
        "colab": {}
      },
      "source": [
        "# print(performance_log_fastrnn)"
      ],
      "execution_count": null,
      "outputs": []
    },
    {
      "cell_type": "code",
      "metadata": {
        "id": "7a3m7zS9mc8-",
        "colab_type": "code",
        "colab": {
          "base_uri": "https://localhost:8080/",
          "height": 35
        },
        "outputId": "ca3818b2-01f4-47e2-c57d-72234805e545"
      },
      "source": [
        "time_fastrnn= stop-start\n",
        "print(time_fastrnn)"
      ],
      "execution_count": null,
      "outputs": [
        {
          "output_type": "stream",
          "text": [
            "3.157587766647339\n"
          ],
          "name": "stdout"
        }
      ]
    },
    {
      "cell_type": "markdown",
      "metadata": {
        "colab_type": "text",
        "id": "bZqKf0rWSBjy"
      },
      "source": [
        "Finding MSE\n"
      ]
    },
    {
      "cell_type": "code",
      "metadata": {
        "id": "Z9EMeR8yy5v7",
        "colab_type": "code",
        "colab": {
          "base_uri": "https://localhost:8080/",
          "height": 35
        },
        "outputId": "288ab094-3734-4630-d243-df468cabd5f0"
      },
      "source": [
        "# Getting the models predicted price values\n",
        " \n",
        "predictions_fastgrnn = model.predict(x_test)\n",
        "predictions_fastgrnn = scaler.inverse_transform(predictions_fastgrnn)#Undo scaling\n",
        "\n",
        "mse_fastgrnn= mean_squared_error(y_test, predictions_fastgrnn )\n",
        "rmse_fastgrnn = math.sqrt(mse_fastgrnn)\n",
        "print(rmse_fastgrnn)\n"
      ],
      "execution_count": null,
      "outputs": [
        {
          "output_type": "stream",
          "text": [
            "0.024014036365424676\n"
          ],
          "name": "stdout"
        }
      ]
    },
    {
      "cell_type": "code",
      "metadata": {
        "id": "8Or-RvrYPAOp",
        "colab_type": "code",
        "colab": {
          "base_uri": "https://localhost:8080/",
          "height": 35
        },
        "outputId": "a9ddd728-a2fb-4952-d5b4-666c2b473bd3"
      },
      "source": [
        "from sklearn.metrics import r2_score\n",
        "\n",
        "cod_fastrnn = r2_score(y_test, predictions_fastgrnn)\n",
        "print(cod_fastrnn)"
      ],
      "execution_count": null,
      "outputs": [
        {
          "output_type": "stream",
          "text": [
            "0.8786022649091301\n"
          ],
          "name": "stdout"
        }
      ]
    },
    {
      "cell_type": "markdown",
      "metadata": {
        "colab_type": "text",
        "id": "HMDKqxVETe2W"
      },
      "source": [
        "## FB Prophet "
      ]
    },
    {
      "cell_type": "code",
      "metadata": {
        "colab_type": "code",
        "id": "YVNSqLvZTdwr",
        "colab": {}
      },
      "source": [
        "from fbprophet import Prophet"
      ],
      "execution_count": null,
      "outputs": []
    },
    {
      "cell_type": "code",
      "metadata": {
        "colab_type": "code",
        "id": "WHsWvokkXP8E",
        "colab": {
          "base_uri": "https://localhost:8080/",
          "height": 35
        },
        "outputId": "5fa606e2-8192-404d-9bfb-8d3ffd055075"
      },
      "source": [
        "df_fb=df\n",
        "print(len(df_fb))\n"
      ],
      "execution_count": null,
      "outputs": [
        {
          "output_type": "stream",
          "text": [
            "389\n"
          ],
          "name": "stdout"
        }
      ]
    },
    {
      "cell_type": "code",
      "metadata": {
        "colab_type": "code",
        "id": "8JoPyw4yTdts",
        "colab": {
          "base_uri": "https://localhost:8080/",
          "height": 35
        },
        "outputId": "2bf9999b-175a-48dd-c73b-551ce12bb215"
      },
      "source": [
        "print(len(df_fb))"
      ],
      "execution_count": null,
      "outputs": [
        {
          "output_type": "stream",
          "text": [
            "389\n"
          ],
          "name": "stdout"
        }
      ]
    },
    {
      "cell_type": "code",
      "metadata": {
        "colab_type": "code",
        "id": "ro4WwPetT_FZ",
        "colab": {
          "base_uri": "https://localhost:8080/",
          "height": 163
        },
        "outputId": "947a38e4-92ae-435f-d157-f694e79b2775"
      },
      "source": [
        "df_fb['Time_b'] = pd.to_datetime(df_fb.Time_b,format='%Y-%m-%d')\n",
        "df_fb.index = df_fb['Time_b']"
      ],
      "execution_count": null,
      "outputs": [
        {
          "output_type": "stream",
          "text": [
            "/usr/local/lib/python3.6/dist-packages/ipykernel_launcher.py:1: SettingWithCopyWarning:\n",
            "\n",
            "\n",
            "A value is trying to be set on a copy of a slice from a DataFrame.\n",
            "Try using .loc[row_indexer,col_indexer] = value instead\n",
            "\n",
            "See the caveats in the documentation: https://pandas.pydata.org/pandas-docs/stable/user_guide/indexing.html#returning-a-view-versus-a-copy\n",
            "\n"
          ],
          "name": "stderr"
        }
      ]
    },
    {
      "cell_type": "code",
      "metadata": {
        "colab_type": "code",
        "id": "fGCCScusUQrJ",
        "colab": {
          "base_uri": "https://localhost:8080/",
          "height": 204
        },
        "outputId": "4f3e1f2a-a52a-487d-d280-a5ab0643353e"
      },
      "source": [
        "#preparing data\n",
        "df_fb.rename(columns={'Close': 'y', 'Time_b': 'ds'}, inplace=True)\n",
        "\n",
        "#train and validation\n",
        "train_fb = df_fb[:training_data_len]\n",
        "valid_fb = df_fb[training_data_len:]\n",
        "\n",
        "#fit the model\n",
        "model_fb = Prophet(daily_seasonality=True)#,yearly_seasonality=True)\n",
        "\n",
        "\n",
        "start_fb=time.time()\n",
        "model_fb.fit(train_fb)\n",
        "stop_fb = time.time()\n",
        "print(f\"Training time: {stop_fb - start_fb}s\")\n",
        "\n",
        "\n",
        "\n",
        "#predictions\n",
        "close_prices_fb = model_fb.make_future_dataframe(periods=len(valid_fb), freq='1min')\n",
        "forecast_fb = model_fb.predict(close_prices_fb)\n",
        "\n"
      ],
      "execution_count": null,
      "outputs": [
        {
          "output_type": "stream",
          "text": [
            "/usr/local/lib/python3.6/dist-packages/pandas/core/frame.py:4133: SettingWithCopyWarning:\n",
            "\n",
            "\n",
            "A value is trying to be set on a copy of a slice from a DataFrame\n",
            "\n",
            "See the caveats in the documentation: https://pandas.pydata.org/pandas-docs/stable/user_guide/indexing.html#returning-a-view-versus-a-copy\n",
            "\n",
            "INFO:fbprophet:Disabling yearly seasonality. Run prophet with yearly_seasonality=True to override this.\n",
            "INFO:fbprophet:Disabling weekly seasonality. Run prophet with weekly_seasonality=True to override this.\n"
          ],
          "name": "stderr"
        },
        {
          "output_type": "stream",
          "text": [
            "Training time: 0.5428249835968018s\n"
          ],
          "name": "stdout"
        }
      ]
    },
    {
      "cell_type": "code",
      "metadata": {
        "id": "JhybBe2vmwR8",
        "colab_type": "code",
        "colab": {
          "base_uri": "https://localhost:8080/",
          "height": 35
        },
        "outputId": "225451cf-a4f2-411d-b878-de7d1322255c"
      },
      "source": [
        "time_fb=stop_fb-start_fb\n",
        "print(time_fb)"
      ],
      "execution_count": null,
      "outputs": [
        {
          "output_type": "stream",
          "text": [
            "0.5428249835968018\n"
          ],
          "name": "stdout"
        }
      ]
    },
    {
      "cell_type": "code",
      "metadata": {
        "colab_type": "code",
        "id": "DLt8cGjDWC3R",
        "colab": {
          "base_uri": "https://localhost:8080/",
          "height": 35
        },
        "outputId": "26400f20-1f1e-4f3a-cca2-3e8c9ebd0186"
      },
      "source": [
        "#rmse\n",
        "forecast_valid_fb = forecast_fb['yhat'][training_data_len:]\n",
        "\n",
        "predictions_fb=np.array(forecast_valid_fb).reshape(-1,1)\n",
        "rmse_fb=np.sqrt(np.mean(np.power((np.array(valid_fb['y'])-np.array(forecast_valid_fb)),2)))\n",
        "print(rmse_fb)\n"
      ],
      "execution_count": null,
      "outputs": [
        {
          "output_type": "stream",
          "text": [
            "0.064013151567721\n"
          ],
          "name": "stdout"
        }
      ]
    },
    {
      "cell_type": "code",
      "metadata": {
        "colab_type": "code",
        "id": "mpPWyvn8ZKj_",
        "colab": {
          "base_uri": "https://localhost:8080/",
          "height": 35
        },
        "outputId": "a1869353-6a14-4347-8a1e-2eff82fee9e7"
      },
      "source": [
        "\n",
        "cod_fb = r2_score((valid_fb['y']), (forecast_valid_fb))\n",
        "print(cod_fb)"
      ],
      "execution_count": null,
      "outputs": [
        {
          "output_type": "stream",
          "text": [
            "0.13738168444070986\n"
          ],
          "name": "stdout"
        }
      ]
    },
    {
      "cell_type": "markdown",
      "metadata": {
        "colab_type": "text",
        "id": "y5NN9wtm8v0t"
      },
      "source": [
        "#####################################LSTM"
      ]
    },
    {
      "cell_type": "code",
      "metadata": {
        "colab_type": "code",
        "id": "WiNJVhdGqfDD",
        "colab": {}
      },
      "source": [
        ""
      ],
      "execution_count": null,
      "outputs": []
    },
    {
      "cell_type": "code",
      "metadata": {
        "colab_type": "code",
        "id": "mj-cX82J6hUZ",
        "colab": {
          "base_uri": "https://localhost:8080/",
          "height": 35
        },
        "outputId": "816dcab4-df62-4f24-b094-a634936aef2f"
      },
      "source": [
        "df = data_1\n",
        "data_2 = df.filter(['Close'])\n",
        "len(data_2)\n",
        "\n",
        "\n",
        "data_2 = data_2[data_2['Close'].notna()]\n",
        "len(data_2)"
      ],
      "execution_count": null,
      "outputs": [
        {
          "output_type": "execute_result",
          "data": {
            "text/plain": [
              "389"
            ]
          },
          "metadata": {
            "tags": []
          },
          "execution_count": 73
        }
      ]
    },
    {
      "cell_type": "code",
      "metadata": {
        "colab_type": "code",
        "id": "4YwxhVNr6lhA",
        "colab": {}
      },
      "source": [
        "\n",
        "\n",
        "#Converting the dataframe to a numpy array\n",
        "dataset = data_2.values\n",
        "#Get /Compute the number of rows to train the model on\n",
        "training_data_len = math.ceil( len(dataset) -50) \n",
        "# training_data_len = math.ceil( len(dataset) *.6)\n",
        "\n",
        "\n",
        "\n",
        "\n",
        "#Scale the all of the data to be values between 0 and 1 \n",
        "scaler = MinMaxScaler(feature_range=(0, 1)) \n",
        "scaled_data = scaler.fit_transform(dataset)\n",
        "\n",
        "\n",
        "#Create the scaled training data set \n",
        "train_data = scaled_data[0:training_data_len  , : ]\n",
        "#Split the data into x_train and y_train data sets\n",
        "x_train=[]\n",
        "y_train = []\n",
        "for i in range(10,len(train_data)):\n",
        "    x_train.append(train_data[i-10:i,0])\n",
        "    y_train.append(train_data[i,0])\n",
        "\n",
        "\n",
        "#Convert x_train and y_train to numpy arrays\n",
        "x_train, y_train = np.array(x_train), np.array(y_train)    \n",
        "\n",
        "\n",
        "#Reshape the data into the shape accepted by the LSTM\n",
        "x_train = np.reshape(x_train, (x_train.shape[0],x_train.shape[1],1))"
      ],
      "execution_count": null,
      "outputs": []
    },
    {
      "cell_type": "code",
      "metadata": {
        "colab_type": "code",
        "id": "cV_wU34D6p4w",
        "colab": {}
      },
      "source": [
        "#Test data set\n",
        "test_data = scaled_data[training_data_len - 10: , : ]\n",
        "#Create the x_test and y_test data sets\n",
        "x_test = []\n",
        "y_test =  dataset[training_data_len : , : ] \n",
        "for i in range(10,len(test_data)):\n",
        "    x_test.append(test_data[i-10:i,0])\n",
        "\n",
        "\n",
        "\n",
        "#Convert x_test to a numpy array \n",
        "x_test = np.array(x_test)\n",
        "\n",
        "#Reshape the data into the shape accepted by the LSTM\n",
        "x_test = np.reshape(x_test, (x_test.shape[0],x_test.shape[1],1))"
      ],
      "execution_count": null,
      "outputs": []
    },
    {
      "cell_type": "markdown",
      "metadata": {
        "id": "vV5NKUfZ8YQ3",
        "colab_type": "text"
      },
      "source": [
        "## LSTM(50 units)"
      ]
    },
    {
      "cell_type": "code",
      "metadata": {
        "colab_type": "code",
        "id": "o9I-mPhu6sAk",
        "colab": {
          "base_uri": "https://localhost:8080/",
          "height": 54
        },
        "outputId": "ae4ec781-9405-4c09-d6c2-48c7ddee5f11"
      },
      "source": [
        "\n",
        "print(x_train.shape)\n",
        "print(x_test.shape)\n",
        "\n"
      ],
      "execution_count": null,
      "outputs": [
        {
          "output_type": "stream",
          "text": [
            "(329, 10, 1)\n",
            "(50, 10, 1)\n"
          ],
          "name": "stdout"
        }
      ]
    },
    {
      "cell_type": "code",
      "metadata": {
        "colab_type": "code",
        "id": "P7H2kfVd8NwN",
        "colab": {}
      },
      "source": [
        "from keras.models import Sequential\n",
        "from keras.layers import Dense, LSTM\n",
        "from keras.optimizers import Adam"
      ],
      "execution_count": null,
      "outputs": []
    },
    {
      "cell_type": "code",
      "metadata": {
        "colab_type": "code",
        "id": "An6tIio98LPa",
        "colab": {}
      },
      "source": [
        "\n",
        "\n",
        "#Build the LSTM network model\n",
        "model_lstm = Sequential()\n",
        "model_lstm.add(LSTM(units=50, return_sequences=False,input_shape=(x_train.shape[1],1)))\n",
        "\n",
        "model_lstm.add(Dense(units=1))\n",
        "\n",
        "\n",
        "#Compile the model\n",
        "model_lstm.compile(optimizer=Adam(lr=0.01), loss='mean_squared_error')\n"
      ],
      "execution_count": null,
      "outputs": []
    },
    {
      "cell_type": "code",
      "metadata": {
        "id": "f_3FZVWW7MBR",
        "colab_type": "code",
        "colab": {}
      },
      "source": [
        "csv_logger_lstm=0"
      ],
      "execution_count": null,
      "outputs": []
    },
    {
      "cell_type": "code",
      "metadata": {
        "colab_type": "code",
        "id": "vgepvXt-7vke",
        "colab": {}
      },
      "source": [
        "csv_logger_lstm = CSVLogger(\"model_history_log_lstm.csv\", append=False)\n"
      ],
      "execution_count": null,
      "outputs": []
    },
    {
      "cell_type": "code",
      "metadata": {
        "colab_type": "code",
        "id": "TbnJj1cC6y9V",
        "colab": {
          "base_uri": "https://localhost:8080/",
          "height": 1000
        },
        "outputId": "e8e1fb4c-a344-4918-de68-4f0657796bc0"
      },
      "source": [
        "start_lstm = time.time()\n",
        " \n",
        "#Train the model\n",
        "model_lstm.fit(x_train, y_train, batch_size=10, epochs=40,validation_data=(x_test, scaled_data[training_data_len : , : ]),callbacks=[csv_logger_lstm]) \n",
        " \n",
        "stop_lstm = time.time()\n",
        "print(f\"Training time: {stop_lstm - start_lstm}s\")"
      ],
      "execution_count": null,
      "outputs": [
        {
          "output_type": "stream",
          "text": [
            "Train on 329 samples, validate on 50 samples\n",
            "Epoch 1/40\n",
            "329/329 [==============================] - 0s 568us/step - loss: 0.0039 - val_loss: 0.0017\n",
            "Epoch 2/40\n",
            "329/329 [==============================] - 0s 509us/step - loss: 0.0039 - val_loss: 0.0014\n",
            "Epoch 3/40\n",
            "329/329 [==============================] - 0s 564us/step - loss: 0.0038 - val_loss: 0.0030\n",
            "Epoch 4/40\n",
            "329/329 [==============================] - 0s 523us/step - loss: 0.0042 - val_loss: 0.0019\n",
            "Epoch 5/40\n",
            "329/329 [==============================] - 0s 538us/step - loss: 0.0038 - val_loss: 0.0021\n",
            "Epoch 6/40\n",
            "329/329 [==============================] - 0s 531us/step - loss: 0.0038 - val_loss: 0.0023\n",
            "Epoch 7/40\n",
            "329/329 [==============================] - 0s 602us/step - loss: 0.0037 - val_loss: 0.0014\n",
            "Epoch 8/40\n",
            "329/329 [==============================] - 0s 674us/step - loss: 0.0036 - val_loss: 0.0014\n",
            "Epoch 9/40\n",
            "329/329 [==============================] - 0s 564us/step - loss: 0.0037 - val_loss: 0.0016\n",
            "Epoch 10/40\n",
            "329/329 [==============================] - 0s 529us/step - loss: 0.0039 - val_loss: 0.0016\n",
            "Epoch 11/40\n",
            "329/329 [==============================] - 0s 552us/step - loss: 0.0037 - val_loss: 0.0014\n",
            "Epoch 12/40\n",
            "329/329 [==============================] - 0s 591us/step - loss: 0.0039 - val_loss: 0.0018\n",
            "Epoch 13/40\n",
            "329/329 [==============================] - 0s 679us/step - loss: 0.0038 - val_loss: 0.0019\n",
            "Epoch 14/40\n",
            "329/329 [==============================] - 0s 531us/step - loss: 0.0037 - val_loss: 0.0017\n",
            "Epoch 15/40\n",
            "329/329 [==============================] - 0s 548us/step - loss: 0.0039 - val_loss: 0.0026\n",
            "Epoch 16/40\n",
            "329/329 [==============================] - 0s 546us/step - loss: 0.0041 - val_loss: 0.0014\n",
            "Epoch 17/40\n",
            "329/329 [==============================] - 0s 537us/step - loss: 0.0036 - val_loss: 0.0020\n",
            "Epoch 18/40\n",
            "329/329 [==============================] - 0s 580us/step - loss: 0.0036 - val_loss: 0.0022\n",
            "Epoch 19/40\n",
            "329/329 [==============================] - 0s 551us/step - loss: 0.0035 - val_loss: 0.0016\n",
            "Epoch 20/40\n",
            "329/329 [==============================] - 0s 532us/step - loss: 0.0036 - val_loss: 0.0021\n",
            "Epoch 21/40\n",
            "329/329 [==============================] - 0s 549us/step - loss: 0.0038 - val_loss: 0.0019\n",
            "Epoch 22/40\n",
            "329/329 [==============================] - 0s 562us/step - loss: 0.0040 - val_loss: 0.0015\n",
            "Epoch 23/40\n",
            "329/329 [==============================] - 0s 582us/step - loss: 0.0037 - val_loss: 0.0017\n",
            "Epoch 24/40\n",
            "329/329 [==============================] - 0s 522us/step - loss: 0.0041 - val_loss: 0.0015\n",
            "Epoch 25/40\n",
            "329/329 [==============================] - 0s 553us/step - loss: 0.0035 - val_loss: 0.0015\n",
            "Epoch 26/40\n",
            "329/329 [==============================] - 0s 548us/step - loss: 0.0038 - val_loss: 0.0023\n",
            "Epoch 27/40\n",
            "329/329 [==============================] - 0s 553us/step - loss: 0.0044 - val_loss: 0.0017\n",
            "Epoch 28/40\n",
            "329/329 [==============================] - 0s 604us/step - loss: 0.0038 - val_loss: 0.0015\n",
            "Epoch 29/40\n",
            "329/329 [==============================] - 0s 707us/step - loss: 0.0037 - val_loss: 0.0017\n",
            "Epoch 30/40\n",
            "329/329 [==============================] - 0s 573us/step - loss: 0.0036 - val_loss: 0.0022\n",
            "Epoch 31/40\n",
            "329/329 [==============================] - 0s 530us/step - loss: 0.0036 - val_loss: 0.0016\n",
            "Epoch 32/40\n",
            "329/329 [==============================] - 0s 529us/step - loss: 0.0040 - val_loss: 0.0016\n",
            "Epoch 33/40\n",
            "329/329 [==============================] - 0s 547us/step - loss: 0.0035 - val_loss: 0.0017\n",
            "Epoch 34/40\n",
            "329/329 [==============================] - 0s 585us/step - loss: 0.0036 - val_loss: 0.0015\n",
            "Epoch 35/40\n",
            "329/329 [==============================] - 0s 553us/step - loss: 0.0038 - val_loss: 0.0015\n",
            "Epoch 36/40\n",
            "329/329 [==============================] - 0s 554us/step - loss: 0.0037 - val_loss: 0.0014\n",
            "Epoch 37/40\n",
            "329/329 [==============================] - 0s 583us/step - loss: 0.0036 - val_loss: 0.0019\n",
            "Epoch 38/40\n",
            "329/329 [==============================] - 0s 550us/step - loss: 0.0036 - val_loss: 0.0019\n",
            "Epoch 39/40\n",
            "329/329 [==============================] - 0s 570us/step - loss: 0.0038 - val_loss: 0.0016\n",
            "Epoch 40/40\n",
            "329/329 [==============================] - 0s 573us/step - loss: 0.0037 - val_loss: 0.0019\n",
            "Training time: 7.488788604736328s\n"
          ],
          "name": "stdout"
        }
      ]
    },
    {
      "cell_type": "code",
      "metadata": {
        "id": "bGj4gbw-fIpT",
        "colab_type": "code",
        "colab": {}
      },
      "source": [
        "performance_log_lstm=pd.read_csv('model_history_log_lstm.csv')\n"
      ],
      "execution_count": null,
      "outputs": []
    },
    {
      "cell_type": "code",
      "metadata": {
        "id": "4GNr-EiJm-cE",
        "colab_type": "code",
        "colab": {}
      },
      "source": [
        "time_lstm_1=stop_lstm-start_lstm"
      ],
      "execution_count": null,
      "outputs": []
    },
    {
      "cell_type": "code",
      "metadata": {
        "id": "Efd4WjwyzOG7",
        "colab_type": "code",
        "colab": {
          "base_uri": "https://localhost:8080/",
          "height": 35
        },
        "outputId": "87e6e8c5-a116-4d88-899d-6414d80f971a"
      },
      "source": [
        "#Getting the models predicted price values\n",
        "predictions_lstm = model_lstm.predict(x_test) \n",
        "predictions_lstm = scaler.inverse_transform(predictions_lstm)#Undo scaling\n",
        "\n",
        "#Calculate/Get the value of RMSE\n",
        "rmse_lstm_1=np.sqrt(np.mean(((predictions_lstm- y_test)**2)))\n",
        "print(rmse_lstm_1)"
      ],
      "execution_count": null,
      "outputs": [
        {
          "output_type": "stream",
          "text": [
            "0.022682774424281526\n"
          ],
          "name": "stdout"
        }
      ]
    },
    {
      "cell_type": "code",
      "metadata": {
        "colab_type": "code",
        "id": "wjz_xEQcAido",
        "colab": {
          "base_uri": "https://localhost:8080/",
          "height": 35
        },
        "outputId": "a46a99e1-918c-4552-fb5c-bedfd7d5f6b5"
      },
      "source": [
        "cod_lstm_1 = r2_score(y_test, predictions_lstm)\n",
        "print(cod_lstm_1)"
      ],
      "execution_count": null,
      "outputs": [
        {
          "output_type": "stream",
          "text": [
            "0.8916889904266496\n"
          ],
          "name": "stdout"
        }
      ]
    },
    {
      "cell_type": "markdown",
      "metadata": {
        "id": "qWh4dDC38fIo",
        "colab_type": "text"
      },
      "source": [
        "## LSTM(1 Unit)"
      ]
    },
    {
      "cell_type": "code",
      "metadata": {
        "id": "yb06E2Gm8dxX",
        "colab_type": "code",
        "colab": {}
      },
      "source": [
        "\n",
        "\n",
        "#Build the LSTM network model\n",
        "model_lstm = Sequential()\n",
        "model_lstm.add(LSTM(units=1, return_sequences=False,input_shape=(x_train.shape[1],1)))\n",
        "\n",
        "model_lstm.add(Dense(units=1))\n",
        "\n",
        "\n",
        "#Compile the model\n",
        "model_lstm.compile(optimizer=Adam(lr=0.01), loss='mean_squared_error')"
      ],
      "execution_count": null,
      "outputs": []
    },
    {
      "cell_type": "code",
      "metadata": {
        "id": "iQLuPJzj-LFL",
        "colab_type": "code",
        "colab": {}
      },
      "source": [
        "from keras.callbacks import CSVLogger"
      ],
      "execution_count": null,
      "outputs": []
    },
    {
      "cell_type": "code",
      "metadata": {
        "id": "Iton1jnM8myh",
        "colab_type": "code",
        "colab": {}
      },
      "source": [
        "csv_logger_lstm_II=0\n",
        "csv_logger_lstm_II = CSVLogger(\"model_history_log_lstm_II.csv\", append=False)"
      ],
      "execution_count": null,
      "outputs": []
    },
    {
      "cell_type": "code",
      "metadata": {
        "colab_type": "code",
        "id": "9NGxzbqu68yM",
        "colab": {
          "base_uri": "https://localhost:8080/",
          "height": 1000
        },
        "outputId": "137bf25b-9eb1-4fef-c735-b8be356bedb2"
      },
      "source": [
        "start_lstm = time.time()\n",
        " \n",
        "#Train the model\n",
        "model_lstm.fit(x_train, y_train, batch_size=10, epochs=40,validation_data=(x_test, scaled_data[training_data_len : , : ]),callbacks=[csv_logger_lstm_II]) \n",
        " \n",
        "stop_lstm = time.time()\n",
        "print(f\"Training time: {stop_lstm - start_lstm}s\")"
      ],
      "execution_count": null,
      "outputs": [
        {
          "output_type": "stream",
          "text": [
            "Train on 329 samples, validate on 50 samples\n",
            "Epoch 1/40\n",
            "329/329 [==============================] - 1s 2ms/step - loss: 0.2480 - val_loss: 0.0170\n",
            "Epoch 2/40\n",
            "329/329 [==============================] - 0s 430us/step - loss: 0.0496 - val_loss: 0.0345\n",
            "Epoch 3/40\n",
            "329/329 [==============================] - 0s 463us/step - loss: 0.0437 - val_loss: 0.0213\n",
            "Epoch 4/40\n",
            "329/329 [==============================] - 0s 486us/step - loss: 0.0367 - val_loss: 0.0183\n",
            "Epoch 5/40\n",
            "329/329 [==============================] - 0s 427us/step - loss: 0.0295 - val_loss: 0.0164\n",
            "Epoch 6/40\n",
            "329/329 [==============================] - 0s 438us/step - loss: 0.0225 - val_loss: 0.0092\n",
            "Epoch 7/40\n",
            "329/329 [==============================] - 0s 450us/step - loss: 0.0162 - val_loss: 0.0060\n",
            "Epoch 8/40\n",
            "329/329 [==============================] - 0s 445us/step - loss: 0.0117 - val_loss: 0.0034\n",
            "Epoch 9/40\n",
            "329/329 [==============================] - 0s 448us/step - loss: 0.0087 - val_loss: 0.0026\n",
            "Epoch 10/40\n",
            "329/329 [==============================] - 0s 475us/step - loss: 0.0070 - val_loss: 0.0024\n",
            "Epoch 11/40\n",
            "329/329 [==============================] - 0s 603us/step - loss: 0.0062 - val_loss: 0.0024\n",
            "Epoch 12/40\n",
            "329/329 [==============================] - 0s 467us/step - loss: 0.0060 - val_loss: 0.0020\n",
            "Epoch 13/40\n",
            "329/329 [==============================] - 0s 549us/step - loss: 0.0058 - val_loss: 0.0022\n",
            "Epoch 14/40\n",
            "329/329 [==============================] - 0s 455us/step - loss: 0.0058 - val_loss: 0.0028\n",
            "Epoch 15/40\n",
            "329/329 [==============================] - 0s 469us/step - loss: 0.0056 - val_loss: 0.0038\n",
            "Epoch 16/40\n",
            "329/329 [==============================] - 0s 419us/step - loss: 0.0056 - val_loss: 0.0026\n",
            "Epoch 17/40\n",
            "329/329 [==============================] - 0s 401us/step - loss: 0.0055 - val_loss: 0.0027\n",
            "Epoch 18/40\n",
            "329/329 [==============================] - 0s 408us/step - loss: 0.0053 - val_loss: 0.0036\n",
            "Epoch 19/40\n",
            "329/329 [==============================] - 0s 382us/step - loss: 0.0053 - val_loss: 0.0032\n",
            "Epoch 20/40\n",
            "329/329 [==============================] - 0s 386us/step - loss: 0.0051 - val_loss: 0.0021\n",
            "Epoch 21/40\n",
            "329/329 [==============================] - 0s 380us/step - loss: 0.0052 - val_loss: 0.0033\n",
            "Epoch 22/40\n",
            "329/329 [==============================] - 0s 395us/step - loss: 0.0052 - val_loss: 0.0039\n",
            "Epoch 23/40\n",
            "329/329 [==============================] - 0s 390us/step - loss: 0.0050 - val_loss: 0.0028\n",
            "Epoch 24/40\n",
            "329/329 [==============================] - 0s 385us/step - loss: 0.0050 - val_loss: 0.0021\n",
            "Epoch 25/40\n",
            "329/329 [==============================] - 0s 389us/step - loss: 0.0048 - val_loss: 0.0045\n",
            "Epoch 26/40\n",
            "329/329 [==============================] - 0s 411us/step - loss: 0.0051 - val_loss: 0.0023\n",
            "Epoch 27/40\n",
            "329/329 [==============================] - 0s 414us/step - loss: 0.0047 - val_loss: 0.0026\n",
            "Epoch 28/40\n",
            "329/329 [==============================] - 0s 423us/step - loss: 0.0049 - val_loss: 0.0018\n",
            "Epoch 29/40\n",
            "329/329 [==============================] - 0s 397us/step - loss: 0.0047 - val_loss: 0.0027\n",
            "Epoch 30/40\n",
            "329/329 [==============================] - 0s 381us/step - loss: 0.0046 - val_loss: 0.0025\n",
            "Epoch 31/40\n",
            "329/329 [==============================] - 0s 392us/step - loss: 0.0046 - val_loss: 0.0027\n",
            "Epoch 32/40\n",
            "329/329 [==============================] - 0s 389us/step - loss: 0.0045 - val_loss: 0.0022\n",
            "Epoch 33/40\n",
            "329/329 [==============================] - 0s 490us/step - loss: 0.0044 - val_loss: 0.0017\n",
            "Epoch 34/40\n",
            "329/329 [==============================] - 0s 423us/step - loss: 0.0045 - val_loss: 0.0022\n",
            "Epoch 35/40\n",
            "329/329 [==============================] - 0s 411us/step - loss: 0.0048 - val_loss: 0.0021\n",
            "Epoch 36/40\n",
            "329/329 [==============================] - 0s 396us/step - loss: 0.0044 - val_loss: 0.0026\n",
            "Epoch 37/40\n",
            "329/329 [==============================] - 0s 408us/step - loss: 0.0043 - val_loss: 0.0021\n",
            "Epoch 38/40\n",
            "329/329 [==============================] - 0s 415us/step - loss: 0.0043 - val_loss: 0.0018\n",
            "Epoch 39/40\n",
            "329/329 [==============================] - 0s 390us/step - loss: 0.0043 - val_loss: 0.0021\n",
            "Epoch 40/40\n",
            "329/329 [==============================] - 0s 409us/step - loss: 0.0042 - val_loss: 0.0019\n",
            "Training time: 6.905820608139038s\n"
          ],
          "name": "stdout"
        }
      ]
    },
    {
      "cell_type": "code",
      "metadata": {
        "colab_type": "code",
        "id": "rQoeM2726tz6",
        "colab": {}
      },
      "source": [
        "performance_log_lstm_II=pd.read_csv(\"model_history_log_lstm_II.csv\")\n"
      ],
      "execution_count": null,
      "outputs": []
    },
    {
      "cell_type": "code",
      "metadata": {
        "id": "gv5x8GAl4u9Y",
        "colab_type": "code",
        "colab": {}
      },
      "source": [
        "time_lstm_II=stop_lstm-start_lstm"
      ],
      "execution_count": null,
      "outputs": []
    },
    {
      "cell_type": "code",
      "metadata": {
        "id": "f9OXQP84_mpD",
        "colab_type": "code",
        "colab": {
          "base_uri": "https://localhost:8080/",
          "height": 35
        },
        "outputId": "988b5d9a-e29b-423b-ae80-81942ff9928f"
      },
      "source": [
        "#Getting the models predicted price values\n",
        "predictions_lstm_II = model_lstm.predict(x_test) \n",
        "predictions_lstm_II = scaler.inverse_transform(predictions_lstm_II)#Undo scaling\n",
        "\n",
        "#Calculate/Get the value of RMSE\n",
        "rmse_lstm_II=np.sqrt(np.mean(((predictions_lstm_II- y_test)**2)))\n",
        "print(rmse_lstm_II)"
      ],
      "execution_count": null,
      "outputs": [
        {
          "output_type": "stream",
          "text": [
            "0.022635819221926638\n"
          ],
          "name": "stdout"
        }
      ]
    },
    {
      "cell_type": "code",
      "metadata": {
        "id": "d122Hy3w87nq",
        "colab_type": "code",
        "colab": {
          "base_uri": "https://localhost:8080/",
          "height": 35
        },
        "outputId": "87d4f153-a9e4-4429-cc97-6f317f3f1780"
      },
      "source": [
        "\n",
        "cod_lstm_II = r2_score(y_test, predictions_lstm_II)\n",
        "print(cod_lstm_II)"
      ],
      "execution_count": null,
      "outputs": [
        {
          "output_type": "stream",
          "text": [
            "0.8921369516240896\n"
          ],
          "name": "stdout"
        }
      ]
    },
    {
      "cell_type": "code",
      "metadata": {
        "colab_type": "code",
        "id": "_XQN3NLYw-RE",
        "colab": {
          "base_uri": "https://localhost:8080/",
          "height": 90
        },
        "outputId": "2b1346a3-c8dd-410f-c5e8-4ecce8b81c79"
      },
      "source": [
        "\n",
        "print(rmse_fastgrnn)\n",
        "print(rmse_lstm_1)\n",
        "print(rmse_lstm_II)\n",
        "print(rmse_fb)"
      ],
      "execution_count": null,
      "outputs": [
        {
          "output_type": "stream",
          "text": [
            "0.024014036365424676\n",
            "0.022682774424281526\n",
            "0.022635819221926638\n",
            "0.064013151567721\n"
          ],
          "name": "stdout"
        }
      ]
    },
    {
      "cell_type": "markdown",
      "metadata": {
        "colab_type": "text",
        "id": "aumt9rlAhAiv"
      },
      "source": [
        "##ARIMA\n",
        "\n",
        "\n"
      ]
    },
    {
      "cell_type": "code",
      "metadata": {
        "colab_type": "code",
        "id": "2Lu55K5mg_tZ",
        "colab": {
          "base_uri": "https://localhost:8080/",
          "height": 90
        },
        "outputId": "3fe4da50-11f1-4855-e18f-b5d56a783056"
      },
      "source": [
        "###Testing for stationarity (Dickey-Fuller Test)\n",
        "from statsmodels.tsa.stattools import adfuller\n",
        "# test_result = adfuller(data['Close'])\n",
        "#Ho: It is non stationary\n",
        "#H1: It is stationary\n",
        " \n",
        "\n",
        "def adfuller_test(sales):\n",
        "    results = adfuller(sales)\n",
        "    labels = ['ADF Test Statistic', 'p-value', '#Lags used', 'Number of observations used']\n",
        "    for value, label in zip(results, labels):\n",
        "        print (label + ' : ' + str(value))\n",
        "    if (results[1] <= 0.05):\n",
        "        print (\"Strong evidence against Null Hypothesis-H0. Reject the Null Hypothesis. Data has no unit root and is stationary\")\n",
        "    else:\n",
        "        print(\"weak evidence against null hypothesis, time series has a unit root, indicating it is non-stationary \")"
      ],
      "execution_count": null,
      "outputs": [
        {
          "output_type": "stream",
          "text": [
            "/usr/local/lib/python3.6/dist-packages/statsmodels/tools/_testing.py:19: FutureWarning:\n",
            "\n",
            "pandas.util.testing is deprecated. Use the functions in the public API at pandas.testing instead.\n",
            "\n"
          ],
          "name": "stderr"
        }
      ]
    },
    {
      "cell_type": "code",
      "metadata": {
        "colab_type": "code",
        "id": "plSzvvYhVMY1",
        "colab": {}
      },
      "source": [
        "data=data_1\n",
        "# data = data[data['Close'].notna()]\n",
        "data_to_se = data[data['Close'].notna()]"
      ],
      "execution_count": null,
      "outputs": []
    },
    {
      "cell_type": "code",
      "metadata": {
        "colab_type": "code",
        "id": "qM_QTHetXVph",
        "colab": {
          "base_uri": "https://localhost:8080/",
          "height": 198
        },
        "outputId": "a0f710ae-a180-422c-9c6d-4fc227c666ca"
      },
      "source": [
        "data.head()"
      ],
      "execution_count": null,
      "outputs": [
        {
          "output_type": "execute_result",
          "data": {
            "text/html": [
              "<div>\n",
              "<style scoped>\n",
              "    .dataframe tbody tr th:only-of-type {\n",
              "        vertical-align: middle;\n",
              "    }\n",
              "\n",
              "    .dataframe tbody tr th {\n",
              "        vertical-align: top;\n",
              "    }\n",
              "\n",
              "    .dataframe thead th {\n",
              "        text-align: right;\n",
              "    }\n",
              "</style>\n",
              "<table border=\"1\" class=\"dataframe\">\n",
              "  <thead>\n",
              "    <tr style=\"text-align: right;\">\n",
              "      <th></th>\n",
              "      <th>index</th>\n",
              "      <th>Time_b</th>\n",
              "      <th>Close</th>\n",
              "    </tr>\n",
              "  </thead>\n",
              "  <tbody>\n",
              "    <tr>\n",
              "      <th>0</th>\n",
              "      <td>0</td>\n",
              "      <td>2020-07-22 13:30:00</td>\n",
              "      <td>32.490002</td>\n",
              "    </tr>\n",
              "    <tr>\n",
              "      <th>1</th>\n",
              "      <td>1</td>\n",
              "      <td>2020-07-22 13:31:00</td>\n",
              "      <td>32.639999</td>\n",
              "    </tr>\n",
              "    <tr>\n",
              "      <th>2</th>\n",
              "      <td>2</td>\n",
              "      <td>2020-07-22 13:32:00</td>\n",
              "      <td>32.669998</td>\n",
              "    </tr>\n",
              "    <tr>\n",
              "      <th>3</th>\n",
              "      <td>3</td>\n",
              "      <td>2020-07-22 13:33:00</td>\n",
              "      <td>32.799999</td>\n",
              "    </tr>\n",
              "    <tr>\n",
              "      <th>4</th>\n",
              "      <td>4</td>\n",
              "      <td>2020-07-22 13:34:00</td>\n",
              "      <td>32.610001</td>\n",
              "    </tr>\n",
              "  </tbody>\n",
              "</table>\n",
              "</div>"
            ],
            "text/plain": [
              "   index               Time_b      Close\n",
              "0      0  2020-07-22 13:30:00  32.490002\n",
              "1      1  2020-07-22 13:31:00  32.639999\n",
              "2      2  2020-07-22 13:32:00  32.669998\n",
              "3      3  2020-07-22 13:33:00  32.799999\n",
              "4      4  2020-07-22 13:34:00  32.610001"
            ]
          },
          "metadata": {
            "tags": []
          },
          "execution_count": 106
        }
      ]
    },
    {
      "cell_type": "code",
      "metadata": {
        "colab_type": "code",
        "id": "4qJVJdyVhZT2",
        "colab": {
          "base_uri": "https://localhost:8080/",
          "height": 108
        },
        "outputId": "0d9230f8-7049-4a14-f479-ec1de4ff93a9"
      },
      "source": [
        "adfuller_test(data['Close'].dropna())"
      ],
      "execution_count": null,
      "outputs": [
        {
          "output_type": "stream",
          "text": [
            "ADF Test Statistic : -2.3928921732865307\n",
            "p-value : 0.14375259825627357\n",
            "#Lags used : 4\n",
            "Number of observations used : 384\n",
            "weak evidence against null hypothesis, time series has a unit root, indicating it is non-stationary \n"
          ],
          "name": "stdout"
        }
      ]
    },
    {
      "cell_type": "code",
      "metadata": {
        "colab_type": "code",
        "id": "1FtgkpXhhchM",
        "colab": {
          "base_uri": "https://localhost:8080/",
          "height": 108
        },
        "outputId": "c007b5d8-d34a-412b-c7fb-53a4c7915b76"
      },
      "source": [
        "data['Close First Difference'] = data['Close'] - data['Close'].shift(1)\n",
        "adfuller_test(data['Close First Difference'].dropna())"
      ],
      "execution_count": null,
      "outputs": [
        {
          "output_type": "stream",
          "text": [
            "ADF Test Statistic : -4.928362023337243\n",
            "p-value : 3.07020357611694e-05\n",
            "#Lags used : 16\n",
            "Number of observations used : 370\n",
            "Strong evidence against Null Hypothesis-H0. Reject the Null Hypothesis. Data has no unit root and is stationary\n"
          ],
          "name": "stdout"
        }
      ]
    },
    {
      "cell_type": "code",
      "metadata": {
        "colab_type": "code",
        "id": "YYbmh3-xhfF6",
        "colab": {
          "base_uri": "https://localhost:8080/",
          "height": 283
        },
        "outputId": "edf55f09-a9a3-4fac-c52c-332e52113b80"
      },
      "source": [
        "data['Close First Difference'].dropna().plot()"
      ],
      "execution_count": null,
      "outputs": [
        {
          "output_type": "execute_result",
          "data": {
            "text/plain": [
              "<matplotlib.axes._subplots.AxesSubplot at 0x7f358b9ed828>"
            ]
          },
          "metadata": {
            "tags": []
          },
          "execution_count": 109
        },
        {
          "output_type": "display_data",
          "data": {
            "image/png": "[encoded data removed]",
            "text/plain": [
              "<Figure size 432x288 with 1 Axes>"
            ]
          },
          "metadata": {
            "tags": [],
            "needs_background": "light"
          }
        }
      ]
    },
    {
      "cell_type": "code",
      "metadata": {
        "colab_type": "code",
        "id": "mTd63RIdhkSX",
        "colab": {}
      },
      "source": [
        "# data.to_csv(r\"C:\\Users\\konark.yadav\\Downloads\\data.csv\", index=False)\n",
        "data['Seasonal Difference'] = data['Close'] - data['Close'].shift(12)"
      ],
      "execution_count": null,
      "outputs": []
    },
    {
      "cell_type": "code",
      "metadata": {
        "colab_type": "code",
        "id": "PaKho-pVhnHq",
        "colab": {}
      },
      "source": [
        "from pandas.plotting import autocorrelation_plot\n",
        "from matplotlib import pyplot\n",
        "import matplotlib.pyplot as plt\n",
        " \n",
        "%matplotlib inline"
      ],
      "execution_count": null,
      "outputs": []
    },
    {
      "cell_type": "code",
      "metadata": {
        "colab_type": "code",
        "id": "cwpYJdeYho6r",
        "colab": {
          "base_uri": "https://localhost:8080/",
          "height": 283
        },
        "outputId": "05ee86d9-3285-4ea2-8d5e-8f9fe1dbf388"
      },
      "source": [
        "# from pandas.tools.plotting import autocorrelation_plot\n",
        "autocorrelation_plot(data['Close'])\n",
        "plt.show()"
      ],
      "execution_count": null,
      "outputs": [
        {
          "output_type": "display_data",
          "data": {
            "image/png": "[encoded data removed]",
            "text/plain": [
              "<Figure size 432x288 with 1 Axes>"
            ]
          },
          "metadata": {
            "tags": [],
            "needs_background": "light"
          }
        }
      ]
    },
    {
      "cell_type": "code",
      "metadata": {
        "colab_type": "code",
        "id": "WIyzz1V2hrQN",
        "colab": {
          "base_uri": "https://localhost:8080/",
          "height": 108
        },
        "outputId": "819be062-0d90-4017-81c4-cc23ac5d573a"
      },
      "source": [
        "adfuller_test(data['Seasonal Difference'].dropna())"
      ],
      "execution_count": null,
      "outputs": [
        {
          "output_type": "stream",
          "text": [
            "ADF Test Statistic : -3.8746839389456627\n",
            "p-value : 0.002229263908416324\n",
            "#Lags used : 17\n",
            "Number of observations used : 358\n",
            "Strong evidence against Null Hypothesis-H0. Reject the Null Hypothesis. Data has no unit root and is stationary\n"
          ],
          "name": "stdout"
        }
      ]
    },
    {
      "cell_type": "code",
      "metadata": {
        "colab_type": "code",
        "id": "waUufV4phuGN",
        "colab": {
          "base_uri": "https://localhost:8080/",
          "height": 283
        },
        "outputId": "17f549bc-9627-4631-eb80-3c0dc7a97f4f"
      },
      "source": [
        "data['Seasonal Difference'].plot()"
      ],
      "execution_count": null,
      "outputs": [
        {
          "output_type": "execute_result",
          "data": {
            "text/plain": [
              "<matplotlib.axes._subplots.AxesSubplot at 0x7f358b22f908>"
            ]
          },
          "metadata": {
            "tags": []
          },
          "execution_count": 114
        },
        {
          "output_type": "display_data",
          "data": {
            "image/png": "[encoded data removed]",
            "text/plain": [
              "<Figure size 432x288 with 1 Axes>"
            ]
          },
          "metadata": {
            "tags": [],
            "needs_background": "light"
          }
        }
      ]
    },
    {
      "cell_type": "code",
      "metadata": {
        "colab_type": "code",
        "id": "PPosZxl-hxRo",
        "colab": {
          "base_uri": "https://localhost:8080/",
          "height": 283
        },
        "outputId": "5d770661-c543-4e1c-8d28-4c1722c29e93"
      },
      "source": [
        "from pandas.plotting import autocorrelation_plot\n",
        "autocorrelation_plot(data['Close'])\n",
        "plt.show()"
      ],
      "execution_count": null,
      "outputs": [
        {
          "output_type": "display_data",
          "data": {
            "image/png": "[encoded data removed]",
            "text/plain": [
              "<Figure size 432x288 with 1 Axes>"
            ]
          },
          "metadata": {
            "tags": [],
            "needs_background": "light"
          }
        }
      ]
    },
    {
      "cell_type": "code",
      "metadata": {
        "id": "gZWIOTWESnBl",
        "colab_type": "code",
        "colab": {}
      },
      "source": [
        "from statsmodels.tsa.arima_model import ARIMA\n",
        "X = data['Close'].dropna().values\n",
        "size = int(len(X) -50)\n",
        "train, test = X[0:size], X[size:len(X)]"
      ],
      "execution_count": null,
      "outputs": []
    },
    {
      "cell_type": "code",
      "metadata": {
        "colab_type": "code",
        "id": "kLyBvTwkhztX",
        "colab": {
          "base_uri": "https://localhost:8080/",
          "height": 499
        },
        "outputId": "7de5e430-b7f7-4f24-dea0-e6616b512779"
      },
      "source": [
        "from statsmodels.graphics.tsaplots import plot_acf,plot_pacf\n",
        "import statsmodels.api as sm\n",
        " \n",
        "fig = plt.figure(figsize=(12,8))\n",
        "ax1 = fig.add_subplot(211)\n",
        "fig = sm.graphics.tsa.plot_acf(train,lags=40,ax=ax1)\n",
        "ax2 = fig.add_subplot(212)\n",
        "fig = sm.graphics.tsa.plot_pacf(train,lags=40,ax=ax2)"
      ],
      "execution_count": null,
      "outputs": [
        {
          "output_type": "display_data",
          "data": {
            "image/png": "[encoded data removed]",
            "text/plain": [
              "<Figure size 864x576 with 2 Axes>"
            ]
          },
          "metadata": {
            "tags": [],
            "needs_background": "light"
          }
        }
      ]
    },
    {
      "cell_type": "code",
      "metadata": {
        "colab_type": "code",
        "id": "vNLVg4m5h2To",
        "colab": {}
      },
      "source": [
        ""
      ],
      "execution_count": null,
      "outputs": []
    },
    {
      "cell_type": "code",
      "metadata": {
        "colab_type": "code",
        "id": "Z9jqPVhZU1lU",
        "colab": {}
      },
      "source": [
        "# print(data)"
      ],
      "execution_count": null,
      "outputs": []
    },
    {
      "cell_type": "code",
      "metadata": {
        "colab_type": "code",
        "id": "xRZO0cimh4jL",
        "colab": {}
      },
      "source": [
        "# train\n",
        "start_arima = time.time()\n",
        "model_arima = ARIMA(train, order = (2,1,1))\n",
        "model_fit = model_arima.fit()\n",
        "predictions=model_fit.forecast(len(test))[0]\n",
        "stop_arima = time.time()"
      ],
      "execution_count": null,
      "outputs": []
    },
    {
      "cell_type": "code",
      "metadata": {
        "id": "G_Xm6o9Jz0T1",
        "colab_type": "code",
        "colab": {
          "base_uri": "https://localhost:8080/",
          "height": 35
        },
        "outputId": "1a139596-7eaa-4dbf-e3b4-54778b383c98"
      },
      "source": [
        "len(test)"
      ],
      "execution_count": null,
      "outputs": [
        {
          "output_type": "execute_result",
          "data": {
            "text/plain": [
              "50"
            ]
          },
          "metadata": {
            "tags": []
          },
          "execution_count": 120
        }
      ]
    },
    {
      "cell_type": "code",
      "metadata": {
        "id": "rFxqDDaOvEu8",
        "colab_type": "code",
        "colab": {
          "base_uri": "https://localhost:8080/",
          "height": 35
        },
        "outputId": "030e4404-da6f-49d1-e5f0-34c21304f9c9"
      },
      "source": [
        "from sklearn.metrics import mean_squared_error\n",
        "error = math.sqrt(mean_squared_error(test, model_fit.forecast(len(test))[0]))\n",
        "print('Test RMSE: %.3f' % error)"
      ],
      "execution_count": null,
      "outputs": [
        {
          "output_type": "stream",
          "text": [
            "Test RMSE: 0.164\n"
          ],
          "name": "stdout"
        }
      ]
    },
    {
      "cell_type": "code",
      "metadata": {
        "id": "jZfxN1ZQou9y",
        "colab_type": "code",
        "colab": {
          "base_uri": "https://localhost:8080/",
          "height": 35
        },
        "outputId": "df0c0128-8d8f-4d16-e18d-e6d3ff753b00"
      },
      "source": [
        "time_arima=stop_arima - start_arima\n",
        "print(time_arima)"
      ],
      "execution_count": null,
      "outputs": [
        {
          "output_type": "stream",
          "text": [
            "0.28436970710754395\n"
          ],
          "name": "stdout"
        }
      ]
    },
    {
      "cell_type": "code",
      "metadata": {
        "colab_type": "code",
        "id": "mxhITv-CjYY0",
        "colab": {
          "base_uri": "https://localhost:8080/",
          "height": 35
        },
        "outputId": "fa67f6e5-3927-4a39-b57a-15e3d9400096"
      },
      "source": [
        "from sklearn.metrics import r2_score\n",
        "cod_arima = r2_score(test, predictions)\n",
        "print(cod_arima)"
      ],
      "execution_count": null,
      "outputs": [
        {
          "output_type": "stream",
          "text": [
            "-4.654129154918899\n"
          ],
          "name": "stdout"
        }
      ]
    },
    {
      "cell_type": "code",
      "metadata": {
        "colab_type": "code",
        "id": "WjcaHrozqQ7o",
        "colab": {
          "base_uri": "https://localhost:8080/",
          "height": 90
        },
        "outputId": "19ba1252-bd51-4700-cd5c-cd39dc075ae4"
      },
      "source": [
        "\n",
        "print('Arima MSE: %.3f' % error)\n",
        "\n",
        "print(rmse_fastgrnn)\n",
        "print(rmse_lstm_1)\n",
        "print(rmse_fb)\n"
      ],
      "execution_count": null,
      "outputs": [
        {
          "output_type": "stream",
          "text": [
            "Arima MSE: 0.164\n",
            "0.024014036365424676\n",
            "0.022682774424281526\n",
            "0.064013151567721\n"
          ],
          "name": "stdout"
        }
      ]
    },
    {
      "cell_type": "code",
      "metadata": {
        "id": "_xDxanjRo0iH",
        "colab_type": "code",
        "colab": {
          "base_uri": "https://localhost:8080/",
          "height": 72
        },
        "outputId": "bae5e495-7e5c-4e07-9108-ffe2c4764b6d"
      },
      "source": [
        "print(time_lstm_1)\n",
        "print(time_fastrnn)\n",
        "print(time_fb)"
      ],
      "execution_count": null,
      "outputs": [
        {
          "output_type": "stream",
          "text": [
            "7.488788604736328\n",
            "3.157587766647339\n",
            "0.5428249835968018\n"
          ],
          "name": "stdout"
        }
      ]
    },
    {
      "cell_type": "markdown",
      "metadata": {
        "id": "tKWBWUTeDilj",
        "colab_type": "text"
      },
      "source": [
        "## CNN + BiLSTM"
      ]
    },
    {
      "cell_type": "code",
      "metadata": {
        "colab_type": "code",
        "id": "ZQndsjh1sfUl",
        "colab": {
          "base_uri": "https://localhost:8080/",
          "height": 35
        },
        "outputId": "1360b9cd-d57f-4693-9a83-c804ad8bbc24"
      },
      "source": [
        "\n",
        "df = data_1\n",
        "data_2 = df.filter(['Close'])\n",
        "len(data_2)\n",
        "\n",
        "data_2 = data_2[data_2['Close'].notna()]\n",
        "len(data_2)"
      ],
      "execution_count": null,
      "outputs": [
        {
          "output_type": "execute_result",
          "data": {
            "text/plain": [
              "389"
            ]
          },
          "metadata": {
            "tags": []
          },
          "execution_count": 128
        }
      ]
    },
    {
      "cell_type": "code",
      "metadata": {
        "id": "AflVYhKO-oLu",
        "colab_type": "code",
        "colab": {}
      },
      "source": [
        "import math\n",
        "from sklearn.preprocessing import MinMaxScaler\n",
        "import numpy as np\n",
        "#Converting the dataframe to a numpy array\n",
        "dataset = data_2.values\n",
        "#Get /Compute the number of rows to train the model on\n",
        "training_data_len = math.ceil( len(dataset) -50) \n",
        "# training_data_len = math.ceil( len(dataset) *.6)\n",
        "\n",
        "\n",
        "\n",
        "\n",
        "#Scale the all of the data to be values between 0 and 1 \n",
        "scaler = MinMaxScaler(feature_range=(0, 1)) \n",
        "scaled_data = scaler.fit_transform(dataset)\n",
        "\n",
        "\n",
        "#Create the scaled training data set \n",
        "train_data = scaled_data[0:training_data_len  , : ]\n",
        "#Split the data into x_train and y_train data sets\n",
        "x_train=[]\n",
        "y_train = []\n",
        "for i in range(10,len(train_data)):\n",
        "    x_train.append(train_data[i-10:i,0])\n",
        "    y_train.append(train_data[i,0])\n",
        "\n",
        "\n",
        "#Convert x_train and y_train to numpy arrays\n",
        "x_train, y_train = np.array(x_train), np.array(y_train)    \n",
        "\n",
        "\n",
        "#Reshape the data into the shape accepted by the CNN + BiLSTM\n",
        "x_train = np.reshape(x_train, (x_train.shape[0],x_train.shape[1],1))"
      ],
      "execution_count": null,
      "outputs": []
    },
    {
      "cell_type": "code",
      "metadata": {
        "id": "OFRZZIyA-oLw",
        "colab_type": "code",
        "colab": {}
      },
      "source": [
        "#Test data set\n",
        "test_data = scaled_data[training_data_len - 10: , : ]\n",
        "#Create the x_test and y_test data sets\n",
        "x_test = []\n",
        "y_test =  dataset[training_data_len : , : ]\n",
        "for i in range(10,len(test_data)):\n",
        "    x_test.append(test_data[i-10:i,0])\n",
        "\n",
        "\n",
        "#Convert x_test to a numpy array \n",
        "x_test = np.array(x_test)\n",
        "\n",
        "#Reshape the data into the shape accepted by the CNN + BiLSTM\n",
        "x_test = np.reshape(x_test, (x_test.shape[0],x_test.shape[1],1))"
      ],
      "execution_count": null,
      "outputs": []
    },
    {
      "cell_type": "code",
      "metadata": {
        "id": "1uAvIBbZ-oLx",
        "colab_type": "code",
        "colab": {
          "base_uri": "https://localhost:8080/",
          "height": 54
        },
        "outputId": "fb22f2f6-09b9-4ded-978d-c0b3214a72c4"
      },
      "source": [
        "print(x_train.shape)\n",
        "print(x_test.shape)"
      ],
      "execution_count": null,
      "outputs": [
        {
          "output_type": "stream",
          "text": [
            "(329, 10, 1)\n",
            "(50, 10, 1)\n"
          ],
          "name": "stdout"
        }
      ]
    },
    {
      "cell_type": "code",
      "metadata": {
        "id": "N-bh2zEC-oL4",
        "colab_type": "code",
        "colab": {}
      },
      "source": [
        "\n",
        "\n",
        "from keras.models import Sequential\n",
        "from keras.layers import Dense, LSTM\n",
        "from keras.optimizers import Adam\n",
        "from keras.layers.convolutional import Conv1D\n",
        "from keras.layers.convolutional import MaxPooling1D\n",
        "from keras.layers import Bidirectional\n",
        "from keras.layers import Dense, Input, CuDNNLSTM, Embedding, Dropout, Activation, CuDNNGRU, Conv1D\n",
        "#Build the LSTM network model\n",
        "model_cnn_lstm = Sequential()\n",
        "\n",
        "model_cnn_lstm.add(Conv1D(filters=50, kernel_size=3, padding='same', activation='tanh',input_shape=(x_train.shape[1],1)))\n",
        "model_cnn_lstm.add(Bidirectional(LSTM(units=50, return_sequences=False)))\n",
        "model_cnn_lstm.add(Dropout(0.5))\n",
        "\n",
        "# model_cnn_lstm.add(Dense(units=25))\n",
        "model_cnn_lstm.add(Dense(units=1))\n",
        "\n",
        "\n",
        "#Compile the model\n",
        "model_cnn_lstm.compile(optimizer=Adam(lr=0.001), loss='mean_squared_error')"
      ],
      "execution_count": null,
      "outputs": []
    },
    {
      "cell_type": "code",
      "metadata": {
        "id": "6j8v-YgNECwf",
        "colab_type": "code",
        "colab": {}
      },
      "source": [
        "csv_logger_cnn_lstm=0\n",
        "csv_logger_cnn_lstm = CSVLogger(\"model_history_log_CNN_BiLSTM.csv\", append=False)"
      ],
      "execution_count": null,
      "outputs": []
    },
    {
      "cell_type": "code",
      "metadata": {
        "id": "lk_708Vz-oL9",
        "colab_type": "code",
        "colab": {
          "base_uri": "https://localhost:8080/",
          "height": 1000
        },
        "outputId": "6e4b7d94-9d35-4712-c15b-12173b4335e3"
      },
      "source": [
        "start_lstm = time.time()\n",
        " \n",
        "#Train the model\n",
        "model_cnn_lstm.fit(x_train, y_train, batch_size=10, epochs=40,validation_data=(x_test, scaled_data[training_data_len : , : ]),callbacks=[csv_logger_cnn_lstm]) \n",
        " \n",
        "stop_lstm = time.time()\n",
        "print(f\"Training time: {stop_lstm - start_lstm}s\")"
      ],
      "execution_count": null,
      "outputs": [
        {
          "output_type": "stream",
          "text": [
            "Train on 329 samples, validate on 50 samples\n",
            "Epoch 1/40\n",
            "329/329 [==============================] - 1s 4ms/step - loss: 0.0657 - val_loss: 0.0050\n",
            "Epoch 2/40\n",
            "329/329 [==============================] - 0s 1ms/step - loss: 0.0231 - val_loss: 0.0041\n",
            "Epoch 3/40\n",
            "329/329 [==============================] - 0s 1ms/step - loss: 0.0191 - val_loss: 0.0091\n",
            "Epoch 4/40\n",
            "329/329 [==============================] - 0s 1ms/step - loss: 0.0164 - val_loss: 0.0045\n",
            "Epoch 5/40\n",
            "329/329 [==============================] - 0s 1ms/step - loss: 0.0139 - val_loss: 0.0037\n",
            "Epoch 6/40\n",
            "329/329 [==============================] - 0s 1ms/step - loss: 0.0135 - val_loss: 0.0055\n",
            "Epoch 7/40\n",
            "329/329 [==============================] - 0s 1ms/step - loss: 0.0138 - val_loss: 0.0042\n",
            "Epoch 8/40\n",
            "329/329 [==============================] - 0s 1ms/step - loss: 0.0120 - val_loss: 0.0038\n",
            "Epoch 9/40\n",
            "329/329 [==============================] - 0s 1ms/step - loss: 0.0131 - val_loss: 0.0040\n",
            "Epoch 10/40\n",
            "329/329 [==============================] - 0s 1ms/step - loss: 0.0118 - val_loss: 0.0034\n",
            "Epoch 11/40\n",
            "329/329 [==============================] - 0s 1ms/step - loss: 0.0097 - val_loss: 0.0033\n",
            "Epoch 12/40\n",
            "329/329 [==============================] - 0s 1ms/step - loss: 0.0113 - val_loss: 0.0026\n",
            "Epoch 13/40\n",
            "329/329 [==============================] - 0s 1ms/step - loss: 0.0094 - val_loss: 0.0032\n",
            "Epoch 14/40\n",
            "329/329 [==============================] - 0s 1ms/step - loss: 0.0096 - val_loss: 0.0023\n",
            "Epoch 15/40\n",
            "329/329 [==============================] - 0s 1ms/step - loss: 0.0100 - val_loss: 0.0029\n",
            "Epoch 16/40\n",
            "329/329 [==============================] - 0s 1ms/step - loss: 0.0098 - val_loss: 0.0023\n",
            "Epoch 17/40\n",
            "329/329 [==============================] - 0s 1ms/step - loss: 0.0092 - val_loss: 0.0022\n",
            "Epoch 18/40\n",
            "329/329 [==============================] - 0s 1ms/step - loss: 0.0082 - val_loss: 0.0031\n",
            "Epoch 19/40\n",
            "329/329 [==============================] - 0s 1ms/step - loss: 0.0076 - val_loss: 0.0033\n",
            "Epoch 20/40\n",
            "329/329 [==============================] - 0s 1ms/step - loss: 0.0091 - val_loss: 0.0035\n",
            "Epoch 21/40\n",
            "329/329 [==============================] - 0s 1ms/step - loss: 0.0080 - val_loss: 0.0027\n",
            "Epoch 22/40\n",
            "329/329 [==============================] - 0s 1ms/step - loss: 0.0075 - val_loss: 0.0032\n",
            "Epoch 23/40\n",
            "329/329 [==============================] - 0s 1ms/step - loss: 0.0071 - val_loss: 0.0022\n",
            "Epoch 24/40\n",
            "329/329 [==============================] - 0s 1ms/step - loss: 0.0092 - val_loss: 0.0043\n",
            "Epoch 25/40\n",
            "329/329 [==============================] - 0s 1ms/step - loss: 0.0084 - val_loss: 0.0023\n",
            "Epoch 26/40\n",
            "329/329 [==============================] - 0s 1ms/step - loss: 0.0076 - val_loss: 0.0027\n",
            "Epoch 27/40\n",
            "329/329 [==============================] - 0s 1ms/step - loss: 0.0078 - val_loss: 0.0019\n",
            "Epoch 28/40\n",
            "329/329 [==============================] - 0s 1ms/step - loss: 0.0090 - val_loss: 0.0035\n",
            "Epoch 29/40\n",
            "329/329 [==============================] - 0s 1ms/step - loss: 0.0075 - val_loss: 0.0019\n",
            "Epoch 30/40\n",
            "329/329 [==============================] - 0s 1ms/step - loss: 0.0079 - val_loss: 0.0019\n",
            "Epoch 31/40\n",
            "329/329 [==============================] - 0s 1ms/step - loss: 0.0085 - val_loss: 0.0020\n",
            "Epoch 32/40\n",
            "329/329 [==============================] - 0s 1ms/step - loss: 0.0091 - val_loss: 0.0046\n",
            "Epoch 33/40\n",
            "329/329 [==============================] - 0s 1ms/step - loss: 0.0073 - val_loss: 0.0018\n",
            "Epoch 34/40\n",
            "329/329 [==============================] - 0s 1ms/step - loss: 0.0068 - val_loss: 0.0021\n",
            "Epoch 35/40\n",
            "329/329 [==============================] - 0s 1ms/step - loss: 0.0075 - val_loss: 0.0021\n",
            "Epoch 36/40\n",
            "329/329 [==============================] - 0s 1ms/step - loss: 0.0070 - val_loss: 0.0030\n",
            "Epoch 37/40\n",
            "329/329 [==============================] - 0s 1ms/step - loss: 0.0066 - val_loss: 0.0046\n",
            "Epoch 38/40\n",
            "329/329 [==============================] - 0s 1ms/step - loss: 0.0073 - val_loss: 0.0023\n",
            "Epoch 39/40\n",
            "329/329 [==============================] - 0s 1ms/step - loss: 0.0073 - val_loss: 0.0030\n",
            "Epoch 40/40\n",
            "329/329 [==============================] - 0s 1ms/step - loss: 0.0064 - val_loss: 0.0017\n",
            "Training time: 17.225104331970215s\n"
          ],
          "name": "stdout"
        }
      ]
    },
    {
      "cell_type": "code",
      "metadata": {
        "id": "p6T3aUkTEa94",
        "colab_type": "code",
        "colab": {}
      },
      "source": [
        "performance_log_CNN_LSTM_BiLSTM=pd.read_csv(\"model_history_log_CNN_BiLSTM.csv\")"
      ],
      "execution_count": null,
      "outputs": []
    },
    {
      "cell_type": "code",
      "metadata": {
        "id": "a0QFUxJKpGgT",
        "colab_type": "code",
        "colab": {
          "base_uri": "https://localhost:8080/",
          "height": 35
        },
        "outputId": "530771d8-3495-4361-b376-62bf2dcb905c"
      },
      "source": [
        "time_CNN_LSTM_BiLSTM= stop_lstm - start_lstm\n",
        "print(time_CNN_LSTM_BiLSTM)"
      ],
      "execution_count": null,
      "outputs": [
        {
          "output_type": "stream",
          "text": [
            "17.225104331970215\n"
          ],
          "name": "stdout"
        }
      ]
    },
    {
      "cell_type": "code",
      "metadata": {
        "id": "jHebUNTWF0oG",
        "colab_type": "code",
        "colab": {
          "base_uri": "https://localhost:8080/",
          "height": 35
        },
        "outputId": "1e0b1313-9b97-4323-8fe4-201bacc67f52"
      },
      "source": [
        "#Getting the models predicted price values\n",
        "predictions_CNN_LSTM_BiLSTM = model_cnn_lstm.predict(x_test) \n",
        "predictions_CNN_LSTM_BiLSTM = scaler.inverse_transform(predictions_CNN_LSTM_BiLSTM)#Undo scaling\n",
        "\n",
        "#Calculate/Get the value of RMSE\n",
        "rmse_CNN_LSTM_BiLSTM=np.sqrt(np.mean(((predictions_CNN_LSTM_BiLSTM- y_test)**2)))\n",
        "print(rmse_CNN_LSTM_BiLSTM)"
      ],
      "execution_count": null,
      "outputs": [
        {
          "output_type": "stream",
          "text": [
            "0.02144680405111002\n"
          ],
          "name": "stdout"
        }
      ]
    },
    {
      "cell_type": "code",
      "metadata": {
        "id": "iXWXWGYKRXY9",
        "colab_type": "code",
        "colab": {
          "base_uri": "https://localhost:8080/",
          "height": 35
        },
        "outputId": "204c6fb5-8dc1-4471-a90d-b93bc345fff0"
      },
      "source": [
        "cod_CNN_LSTM_BiLSTM= r2_score(y_test, predictions_CNN_LSTM_BiLSTM)\n",
        "print(cod_CNN_LSTM_BiLSTM)"
      ],
      "execution_count": null,
      "outputs": [
        {
          "output_type": "stream",
          "text": [
            "0.9031710050592971\n"
          ],
          "name": "stdout"
        }
      ]
    },
    {
      "cell_type": "markdown",
      "metadata": {
        "id": "1TMj5K6gsBCg",
        "colab_type": "text"
      },
      "source": [
        "## FastRNN+ Above model (Proposed Model)"
      ]
    },
    {
      "cell_type": "code",
      "metadata": {
        "id": "fR8VrDtl5wGb",
        "colab_type": "code",
        "colab": {}
      },
      "source": [
        ""
      ],
      "execution_count": null,
      "outputs": []
    },
    {
      "cell_type": "code",
      "metadata": {
        "id": "aFFIRu3owXwY",
        "colab_type": "code",
        "colab": {}
      },
      "source": [
        "import tensorflow.keras.layers\n",
        "from tensorflow.keras.models import Sequential\n",
        "from tensorflow.keras.layers import Dense, LSTM\n",
        "from tensorflow.keras.optimizers import Adam\n",
        "from tensorflow.keras.layers import Conv1D\n",
        "from tensorflow.keras.layers import MaxPooling1D\n",
        "from tensorflow.keras.layers import Bidirectional\n",
        "from tensorflow.keras.layers import Dense, Input, CuDNNLSTM, Embedding, Dropout, Activation, CuDNNGRU, Conv1D\n",
        "from tensorflow.keras.layers import Dense, Input, RNN\n",
        "from tensorflow.keras.models import Model, Sequential, load_model\n",
        "from tensorflow.keras import backend as K\n",
        "from tensorflow.keras.optimizers import Adam"
      ],
      "execution_count": null,
      "outputs": []
    },
    {
      "cell_type": "code",
      "metadata": {
        "id": "61fVsZit6SbX",
        "colab_type": "code",
        "colab": {}
      },
      "source": [
        "#Import keras grnn\n",
        "from rnn import FastGRNNCellKeras, FastRNNCellKeras"
      ],
      "execution_count": null,
      "outputs": []
    },
    {
      "cell_type": "code",
      "metadata": {
        "id": "l0nFWy7xsAjC",
        "colab_type": "code",
        "colab": {
          "base_uri": "https://localhost:8080/",
          "height": 365
        },
        "outputId": "0fe98b89-29b9-4651-a49a-8c7303947a66"
      },
      "source": [
        "\n",
        "\n",
        "y = inputs = Input(shape=[int(dataDimension / inputDims), inputDims], name='input')\n",
        "layer_shape = K.int_shape(y)#x.get_shape()\n",
        "\n",
        "#Build the LSTM network model\n",
        "y = RNN(FastCell, return_sequences=True, name='rnn')(y)\n",
        "y= Conv1D(filters=300, kernel_size=3 , padding='same', activation='relu', name='Conv1D')(y)\n",
        "\n",
        "y= MaxPooling1D(pool_size=1,name='MaxPooling1D')(y)\n",
        "\n",
        "y= Bidirectional(LSTM(units=50, return_sequences=False))(y)\n",
        "\n",
        "out= Dense(units=1)(y)\n",
        "model_fastrnn_hyb = Model(inputs=inputs, outputs=out)\n",
        "\n",
        "model_fastrnn_hyb.compile(optimizer=Adam_, loss='mean_squared_error')\n"
      ],
      "execution_count": null,
      "outputs": [
        {
          "output_type": "stream",
          "text": [
            "WARNING:tensorflow:From /tensorflow-1.15.2/python3.6/tensorflow_core/python/ops/init_ops.py:97: calling GlorotUniform.__init__ (from tensorflow.python.ops.init_ops) with dtype is deprecated and will be removed in a future version.\n",
            "Instructions for updating:\n",
            "Call initializer instance with the dtype argument instead of passing it to the constructor\n"
          ],
          "name": "stdout"
        },
        {
          "output_type": "stream",
          "text": [
            "WARNING:tensorflow:From /tensorflow-1.15.2/python3.6/tensorflow_core/python/ops/init_ops.py:97: calling GlorotUniform.__init__ (from tensorflow.python.ops.init_ops) with dtype is deprecated and will be removed in a future version.\n",
            "Instructions for updating:\n",
            "Call initializer instance with the dtype argument instead of passing it to the constructor\n"
          ],
          "name": "stderr"
        },
        {
          "output_type": "stream",
          "text": [
            "WARNING:tensorflow:From /tensorflow-1.15.2/python3.6/tensorflow_core/python/ops/init_ops.py:97: calling Orthogonal.__init__ (from tensorflow.python.ops.init_ops) with dtype is deprecated and will be removed in a future version.\n",
            "Instructions for updating:\n",
            "Call initializer instance with the dtype argument instead of passing it to the constructor\n"
          ],
          "name": "stdout"
        },
        {
          "output_type": "stream",
          "text": [
            "WARNING:tensorflow:From /tensorflow-1.15.2/python3.6/tensorflow_core/python/ops/init_ops.py:97: calling Orthogonal.__init__ (from tensorflow.python.ops.init_ops) with dtype is deprecated and will be removed in a future version.\n",
            "Instructions for updating:\n",
            "Call initializer instance with the dtype argument instead of passing it to the constructor\n"
          ],
          "name": "stderr"
        },
        {
          "output_type": "stream",
          "text": [
            "WARNING:tensorflow:From /tensorflow-1.15.2/python3.6/tensorflow_core/python/ops/init_ops.py:97: calling Zeros.__init__ (from tensorflow.python.ops.init_ops) with dtype is deprecated and will be removed in a future version.\n",
            "Instructions for updating:\n",
            "Call initializer instance with the dtype argument instead of passing it to the constructor\n"
          ],
          "name": "stdout"
        },
        {
          "output_type": "stream",
          "text": [
            "WARNING:tensorflow:From /tensorflow-1.15.2/python3.6/tensorflow_core/python/ops/init_ops.py:97: calling Zeros.__init__ (from tensorflow.python.ops.init_ops) with dtype is deprecated and will be removed in a future version.\n",
            "Instructions for updating:\n",
            "Call initializer instance with the dtype argument instead of passing it to the constructor\n"
          ],
          "name": "stderr"
        }
      ]
    },
    {
      "cell_type": "code",
      "metadata": {
        "id": "zdidaVXqxSzL",
        "colab_type": "code",
        "colab": {
          "base_uri": "https://localhost:8080/",
          "height": 90
        },
        "outputId": "912c61d4-eadf-431b-d760-8667d099fa8c"
      },
      "source": [
        "print(x_train.shape)\n",
        "x_train = np.reshape(x_train,[x_train.shape[0],1,10])\n",
        "print(x_test.shape)\n",
        "x_test = np.reshape(x_test,[x_test.shape[0],1,10])\n",
        "print(x_train.shape)\n",
        "print(x_test.shape)"
      ],
      "execution_count": null,
      "outputs": [
        {
          "output_type": "stream",
          "text": [
            "(329, 10, 1)\n",
            "(50, 10, 1)\n",
            "(329, 1, 10)\n",
            "(50, 1, 10)\n"
          ],
          "name": "stdout"
        }
      ]
    },
    {
      "cell_type": "code",
      "metadata": {
        "id": "zx7cFB5XfxmS",
        "colab_type": "code",
        "colab": {}
      },
      "source": [
        "csv_logger_fast_hybrid = CSVLogger(\"model_history_log_fast_hybrid.csv\", append=False)\n"
      ],
      "execution_count": null,
      "outputs": []
    },
    {
      "cell_type": "code",
      "metadata": {
        "id": "rD-Qv0iJxH3R",
        "colab_type": "code",
        "colab": {
          "base_uri": "https://localhost:8080/",
          "height": 1000
        },
        "outputId": "1f04cf4c-a4f1-44fd-ad95-833c4dfecc70"
      },
      "source": [
        "start = time.time()\n",
        "model_fastrnn_hyb.fit(x_train, y_train, batchSize, epochs=totalEpochs, validation_data=(x_test, scaled_data[training_data_len : , : ]),callbacks=[csv_logger_fast_hybrid])\n",
        "stop = time.time()\n",
        "print(f\"Training time: {stop - start}s\")"
      ],
      "execution_count": null,
      "outputs": [
        {
          "output_type": "stream",
          "text": [
            "Train on 329 samples, validate on 50 samples\n",
            "Epoch 1/40\n",
            "329/329 [==============================] - 0s 875us/sample - loss: 0.0037 - val_loss: 0.0017\n",
            "Epoch 2/40\n",
            "329/329 [==============================] - 0s 919us/sample - loss: 0.0037 - val_loss: 0.0017\n",
            "Epoch 3/40\n",
            "329/329 [==============================] - 0s 942us/sample - loss: 0.0038 - val_loss: 0.0018\n",
            "Epoch 4/40\n",
            "329/329 [==============================] - 0s 898us/sample - loss: 0.0040 - val_loss: 0.0016\n",
            "Epoch 5/40\n",
            "329/329 [==============================] - 0s 833us/sample - loss: 0.0042 - val_loss: 0.0017\n",
            "Epoch 6/40\n",
            "329/329 [==============================] - 0s 885us/sample - loss: 0.0036 - val_loss: 0.0018\n",
            "Epoch 7/40\n",
            "329/329 [==============================] - 0s 840us/sample - loss: 0.0040 - val_loss: 0.0018\n",
            "Epoch 8/40\n",
            "329/329 [==============================] - 0s 811us/sample - loss: 0.0043 - val_loss: 0.0018\n",
            "Epoch 9/40\n",
            "329/329 [==============================] - 0s 878us/sample - loss: 0.0039 - val_loss: 0.0016\n",
            "Epoch 10/40\n",
            "329/329 [==============================] - 0s 905us/sample - loss: 0.0038 - val_loss: 0.0020\n",
            "Epoch 11/40\n",
            "329/329 [==============================] - 0s 911us/sample - loss: 0.0038 - val_loss: 0.0029\n",
            "Epoch 12/40\n",
            "329/329 [==============================] - 0s 845us/sample - loss: 0.0040 - val_loss: 0.0018\n",
            "Epoch 13/40\n",
            "329/329 [==============================] - 0s 909us/sample - loss: 0.0037 - val_loss: 0.0021\n",
            "Epoch 14/40\n",
            "329/329 [==============================] - 0s 857us/sample - loss: 0.0036 - val_loss: 0.0018\n",
            "Epoch 15/40\n",
            "329/329 [==============================] - 0s 863us/sample - loss: 0.0035 - val_loss: 0.0017\n",
            "Epoch 16/40\n",
            "329/329 [==============================] - 0s 914us/sample - loss: 0.0036 - val_loss: 0.0017\n",
            "Epoch 17/40\n",
            "329/329 [==============================] - 0s 834us/sample - loss: 0.0038 - val_loss: 0.0022\n",
            "Epoch 18/40\n",
            "329/329 [==============================] - 0s 883us/sample - loss: 0.0037 - val_loss: 0.0017\n",
            "Epoch 19/40\n",
            "329/329 [==============================] - 0s 864us/sample - loss: 0.0037 - val_loss: 0.0018\n",
            "Epoch 20/40\n",
            "329/329 [==============================] - 0s 872us/sample - loss: 0.0037 - val_loss: 0.0016\n",
            "Epoch 21/40\n",
            "329/329 [==============================] - 0s 827us/sample - loss: 0.0043 - val_loss: 0.0018\n",
            "Epoch 22/40\n",
            "329/329 [==============================] - 0s 907us/sample - loss: 0.0048 - val_loss: 0.0031\n",
            "Epoch 23/40\n",
            "329/329 [==============================] - 0s 925us/sample - loss: 0.0040 - val_loss: 0.0024\n",
            "Epoch 24/40\n",
            "329/329 [==============================] - 0s 940us/sample - loss: 0.0037 - val_loss: 0.0017\n",
            "Epoch 25/40\n",
            "329/329 [==============================] - 0s 856us/sample - loss: 0.0040 - val_loss: 0.0026\n",
            "Epoch 26/40\n",
            "329/329 [==============================] - 0s 867us/sample - loss: 0.0037 - val_loss: 0.0020\n",
            "Epoch 27/40\n",
            "329/329 [==============================] - 0s 882us/sample - loss: 0.0036 - val_loss: 0.0020\n",
            "Epoch 28/40\n",
            "329/329 [==============================] - 0s 868us/sample - loss: 0.0039 - val_loss: 0.0020\n",
            "Epoch 29/40\n",
            "329/329 [==============================] - 0s 864us/sample - loss: 0.0036 - val_loss: 0.0019\n",
            "Epoch 30/40\n",
            "329/329 [==============================] - 0s 910us/sample - loss: 0.0037 - val_loss: 0.0025\n",
            "Epoch 31/40\n",
            "329/329 [==============================] - 0s 899us/sample - loss: 0.0044 - val_loss: 0.0032\n",
            "Epoch 32/40\n",
            "329/329 [==============================] - 0s 1ms/sample - loss: 0.0043 - val_loss: 0.0023\n",
            "Epoch 33/40\n",
            "329/329 [==============================] - 0s 981us/sample - loss: 0.0036 - val_loss: 0.0023\n",
            "Epoch 34/40\n",
            "329/329 [==============================] - 0s 849us/sample - loss: 0.0037 - val_loss: 0.0017\n",
            "Epoch 35/40\n",
            "329/329 [==============================] - 0s 870us/sample - loss: 0.0039 - val_loss: 0.0026\n",
            "Epoch 36/40\n",
            "329/329 [==============================] - 0s 856us/sample - loss: 0.0040 - val_loss: 0.0018\n",
            "Epoch 37/40\n",
            "329/329 [==============================] - 0s 950us/sample - loss: 0.0039 - val_loss: 0.0018\n",
            "Epoch 38/40\n",
            "329/329 [==============================] - 0s 843us/sample - loss: 0.0039 - val_loss: 0.0018\n",
            "Epoch 39/40\n",
            "329/329 [==============================] - 0s 867us/sample - loss: 0.0038 - val_loss: 0.0017\n",
            "Epoch 40/40\n",
            "329/329 [==============================] - 0s 976us/sample - loss: 0.0037 - val_loss: 0.0017\n",
            "Training time: 11.7472562789917s\n"
          ],
          "name": "stdout"
        }
      ]
    },
    {
      "cell_type": "code",
      "metadata": {
        "id": "q3Fu66AsfqKh",
        "colab_type": "code",
        "colab": {}
      },
      "source": [
        "performance_log_fast_hybrid=pd.read_csv('model_history_log_fast_hybrid.csv')\n"
      ],
      "execution_count": null,
      "outputs": []
    },
    {
      "cell_type": "code",
      "metadata": {
        "id": "qlKZgbs-qDF2",
        "colab_type": "code",
        "colab": {
          "base_uri": "https://localhost:8080/",
          "height": 35
        },
        "outputId": "f67608a8-ac84-497c-80de-dfbcba265012"
      },
      "source": [
        "time_fastrnn_hyb_CNN_BiLSTM= stop - start\n",
        "print(time_fastrnn_hyb_CNN_BiLSTM)"
      ],
      "execution_count": null,
      "outputs": [
        {
          "output_type": "stream",
          "text": [
            "11.7472562789917\n"
          ],
          "name": "stdout"
        }
      ]
    },
    {
      "cell_type": "code",
      "metadata": {
        "id": "rde-HyLR03aR",
        "colab_type": "code",
        "colab": {
          "base_uri": "https://localhost:8080/",
          "height": 35
        },
        "outputId": "52d1f6f3-e988-48f9-bb9e-81cf15a0e524"
      },
      "source": [
        "#Getting the models predicted price values\n",
        "predictions_fastrnn_hyb_CNN_BiLSTM = model_fastrnn_hyb.predict(x_test) \n",
        "predictions_fastrnn_hyb_CNN_BiLSTM = scaler.inverse_transform(predictions_fastrnn_hyb_CNN_BiLSTM)#Undo scaling\n",
        "\n",
        "#Calculate/Get the value of RMSE\n",
        "rmse_fastrnn_hyb_CNN_BiLSTM=np.sqrt(np.mean(((predictions_fastrnn_hyb_CNN_BiLSTM- y_test)**2)))\n",
        "print(rmse_fastrnn_hyb_CNN_BiLSTM)"
      ],
      "execution_count": null,
      "outputs": [
        {
          "output_type": "stream",
          "text": [
            "0.021336595916915876\n"
          ],
          "name": "stdout"
        }
      ]
    },
    {
      "cell_type": "code",
      "metadata": {
        "id": "UXJWUbTaRygN",
        "colab_type": "code",
        "colab": {
          "base_uri": "https://localhost:8080/",
          "height": 35
        },
        "outputId": "576c5f47-236c-499e-836a-f59a604e2b5a"
      },
      "source": [
        "cod_fastrnn_hyb_CNN_BiLSTM = r2_score(y_test, predictions_fastrnn_hyb_CNN_BiLSTM) \n",
        "print(cod_fastrnn_hyb_CNN_BiLSTM)"
      ],
      "execution_count": null,
      "outputs": [
        {
          "output_type": "stream",
          "text": [
            "0.9041635934717165\n"
          ],
          "name": "stdout"
        }
      ]
    },
    {
      "cell_type": "code",
      "metadata": {
        "id": "tBz9al0ipXZy",
        "colab_type": "code",
        "colab": {
          "base_uri": "https://localhost:8080/",
          "height": 90
        },
        "outputId": "7f4946c8-8771-4294-81c9-cfed021d8b9b"
      },
      "source": [
        "print(rmse_fastgrnn)\n",
        "print(rmse_CNN_LSTM_BiLSTM)\n",
        "print(rmse_lstm_1)\n",
        "print(rmse_lstm_II)"
      ],
      "execution_count": null,
      "outputs": [
        {
          "output_type": "stream",
          "text": [
            "0.024014036365424676\n",
            "0.02144680405111002\n",
            "0.022682774424281526\n",
            "0.022635819221926638\n"
          ],
          "name": "stdout"
        }
      ]
    },
    {
      "cell_type": "code",
      "metadata": {
        "id": "2FbpMNSSF4d3",
        "colab_type": "code",
        "colab": {}
      },
      "source": [
        ""
      ],
      "execution_count": null,
      "outputs": []
    },
    {
      "cell_type": "markdown",
      "metadata": {
        "id": "Fqwzu9NlHyu6",
        "colab_type": "text"
      },
      "source": [
        "## LSTM + Attention (RELU)"
      ]
    },
    {
      "cell_type": "code",
      "metadata": {
        "id": "m0aJZn1u-oMF",
        "colab_type": "code",
        "colab": {}
      },
      "source": [
        "\n",
        "import os\n",
        "import re\n",
        "\n",
        "import numpy as np\n",
        "import pandas as pd\n",
        "import tensorflow as tf\n",
        "import keras.backend as K\n",
        "from keras.preprocessing import text, sequence\n",
        "from keras.preprocessing.text import Tokenizer\n",
        "from keras.preprocessing.sequence import pad_sequences\n",
        "from keras.engine.topology import Layer\n",
        "from keras import initializers, regularizers, constraints\n",
        "from keras.layers import *\n",
        "from keras.models import Model\n"
      ],
      "execution_count": null,
      "outputs": []
    },
    {
      "cell_type": "code",
      "metadata": {
        "id": "Ek6CHWJE-oMM",
        "colab_type": "code",
        "colab": {}
      },
      "source": [
        "df = data_1\n",
        "data_2 = df.filter(['Close'])\n",
        "len(data_2)\n",
        "\n",
        "data_2 = data_2[data_2['Close'].notna()]\n",
        "len(data_2)\n",
        "\n",
        "import math\n",
        "from sklearn.preprocessing import MinMaxScaler\n",
        "import numpy as np\n",
        "#Converting the dataframe to a numpy array\n",
        "dataset = data_2.values\n",
        "#Get /Compute the number of rows to train the model on\n",
        "training_data_len = math.ceil( len(dataset) -50) \n",
        "# training_data_len = math.ceil( len(dataset) *.6)\n",
        "\n",
        "\n",
        "\n",
        "\n",
        "#Scale the all of the data to be values between 0 and 1 \n",
        "scaler = MinMaxScaler(feature_range=(0, 1)) \n",
        "scaled_data = scaler.fit_transform(dataset)\n",
        "\n",
        "\n",
        "#Create the scaled training data set \n",
        "train_data = scaled_data[0:training_data_len  , : ]\n",
        "#Split the data into x_train and y_train data sets\n",
        "x_train=[]\n",
        "y_train = []\n",
        "for i in range(10,len(train_data)):\n",
        "    x_train.append(train_data[i-10:i,0])\n",
        "    y_train.append(train_data[i,0])\n",
        "\n",
        "\n",
        "#Convert x_train and y_train to numpy arrays\n",
        "x_train, y_train = np.array(x_train), np.array(y_train)    \n",
        "\n",
        "\n",
        "#Reshape the data into the shape accepted by the CNN + Attention + BiLSTM\n",
        "x_train = np.reshape(x_train, (x_train.shape[0],x_train.shape[1],1))\n",
        "\n",
        "#Test data set\n",
        "test_data = scaled_data[training_data_len - 10: , : ]\n",
        "#Create the x_test and y_test data sets\n",
        "x_test = []\n",
        "y_test =  dataset[training_data_len : , : ] \n",
        "for i in range(10,len(test_data)):\n",
        "    x_test.append(test_data[i-10:i,0])\n",
        "\n",
        "\n",
        "\n",
        "#Convert x_test to a numpy array \n",
        "x_test = np.array(x_test)\n",
        "\n",
        "#Reshape the data into the shape accepted by the CNN + Attention + BiLSTM\n",
        "x_test = np.reshape(x_test, (x_test.shape[0],x_test.shape[1],1))"
      ],
      "execution_count": null,
      "outputs": []
    },
    {
      "cell_type": "code",
      "metadata": {
        "id": "3V_Vb-gdCXqv",
        "colab_type": "code",
        "colab": {}
      },
      "source": [
        "# pip install keras-self-attention"
      ],
      "execution_count": null,
      "outputs": []
    },
    {
      "cell_type": "code",
      "metadata": {
        "id": "ijNgWKD2-oMO",
        "colab_type": "code",
        "colab": {}
      },
      "source": [
        "import keras\n",
        "from keras_self_attention import SeqSelfAttention"
      ],
      "execution_count": null,
      "outputs": []
    },
    {
      "cell_type": "code",
      "metadata": {
        "id": "gLk7wU3u-oMP",
        "colab_type": "code",
        "colab": {}
      },
      "source": [
        "from keras.models import Sequential\n",
        "from keras.layers import Dense, LSTM\n",
        "from keras.optimizers import Adam\n",
        "from keras.layers.convolutional import Conv1D\n",
        "from keras.layers.convolutional import MaxPooling1D\n",
        "from keras.layers import Bidirectional\n",
        "from keras.layers import Dense, Input, CuDNNLSTM, Embedding, Dropout, Activation, CuDNNGRU, Conv1D\n",
        "\n",
        "\n",
        "from keras import backend as K\n",
        "from keras.engine.topology import Layer\n",
        "from keras import initializers, regularizers, constraints\n",
        "from keras.layers import Flatten, LSTM\n",
        "\n",
        "#Build the LSTM network model\n",
        "model_cnn_lstm = Sequential()\n",
        "model_cnn_lstm.add(LSTM(units=50, return_sequences=True,input_shape=(x_train.shape[1],1)))\n",
        "model_cnn_lstm.add(SeqSelfAttention(attention_activation='relu'))\n",
        "\n",
        "\n",
        "model_cnn_lstm.add(Flatten())\n",
        "model_cnn_lstm.add(Dense(units=1))\n",
        "\n",
        "\n",
        "#Compile the model\n",
        "model_cnn_lstm.compile(optimizer=Adam(lr=0.001), loss='mean_squared_error')\n",
        "    \n"
      ],
      "execution_count": null,
      "outputs": []
    },
    {
      "cell_type": "code",
      "metadata": {
        "id": "bBr_bFfNKj0n",
        "colab_type": "code",
        "colab": {
          "base_uri": "https://localhost:8080/",
          "height": 308
        },
        "outputId": "740c417d-a220-4aa3-debd-859cc09d02f5"
      },
      "source": [
        "model_cnn_lstm.summary()"
      ],
      "execution_count": null,
      "outputs": [
        {
          "output_type": "stream",
          "text": [
            "Model: \"sequential_5\"\n",
            "_________________________________________________________________\n",
            "Layer (type)                 Output Shape              Param #   \n",
            "=================================================================\n",
            "lstm_5 (LSTM)                (None, 10, 50)            10400     \n",
            "_________________________________________________________________\n",
            "seq_self_attention_1 (SeqSel (None, 10, 50)            3265      \n",
            "_________________________________________________________________\n",
            "flatten_1 (Flatten)          (None, 500)               0         \n",
            "_________________________________________________________________\n",
            "dense_5 (Dense)              (None, 1)                 501       \n",
            "=================================================================\n",
            "Total params: 14,166\n",
            "Trainable params: 14,166\n",
            "Non-trainable params: 0\n",
            "_________________________________________________________________\n"
          ],
          "name": "stdout"
        }
      ]
    },
    {
      "cell_type": "code",
      "metadata": {
        "id": "_1hIxCkhH_Ck",
        "colab_type": "code",
        "colab": {}
      },
      "source": [
        "csv_logger_CNN_BiLSTM_Attention_Mechanism=0\n",
        "csv_logger_CNN_BiLSTM_Attention_Mechanism = CSVLogger(\"model_history_log_CNN_BiLSTM_Attention_Mechanism.csv\", append=False)"
      ],
      "execution_count": null,
      "outputs": []
    },
    {
      "cell_type": "code",
      "metadata": {
        "id": "m7Ne_I3L-oMR",
        "colab_type": "code",
        "colab": {
          "base_uri": "https://localhost:8080/",
          "height": 1000
        },
        "outputId": "44cab382-306a-43d8-a799-678b588990db"
      },
      "source": [
        "start_lstm = time.time()\n",
        " \n",
        "#Train the model\n",
        "model_cnn_lstm.fit(x_train, y_train, batch_size=10, epochs=40,validation_data=(x_test, scaled_data[training_data_len : , : ]),callbacks=[csv_logger_CNN_BiLSTM_Attention_Mechanism]) \n",
        " \n",
        "stop_lstm = time.time()\n",
        "print(f\"Training time: {stop_lstm - start_lstm}s\")\n",
        "time_CNN_BiLSTM_Attention_Mechanism= stop_lstm-start_lstm"
      ],
      "execution_count": null,
      "outputs": [
        {
          "output_type": "stream",
          "text": [
            "Train on 329 samples, validate on 50 samples\n",
            "Epoch 1/40\n",
            "329/329 [==============================] - 1s 4ms/step - loss: 0.0575 - val_loss: 0.0077\n",
            "Epoch 2/40\n",
            "329/329 [==============================] - 0s 760us/step - loss: 0.0167 - val_loss: 0.0075\n",
            "Epoch 3/40\n",
            "329/329 [==============================] - 0s 716us/step - loss: 0.0155 - val_loss: 0.0107\n",
            "Epoch 4/40\n",
            "329/329 [==============================] - 0s 743us/step - loss: 0.0164 - val_loss: 0.0103\n",
            "Epoch 5/40\n",
            "329/329 [==============================] - 0s 730us/step - loss: 0.0162 - val_loss: 0.0080\n",
            "Epoch 6/40\n",
            "329/329 [==============================] - 0s 760us/step - loss: 0.0152 - val_loss: 0.0072\n",
            "Epoch 7/40\n",
            "329/329 [==============================] - 0s 720us/step - loss: 0.0149 - val_loss: 0.0087\n",
            "Epoch 8/40\n",
            "329/329 [==============================] - 0s 802us/step - loss: 0.0152 - val_loss: 0.0100\n",
            "Epoch 9/40\n",
            "329/329 [==============================] - 0s 883us/step - loss: 0.0156 - val_loss: 0.0065\n",
            "Epoch 10/40\n",
            "329/329 [==============================] - 0s 783us/step - loss: 0.0153 - val_loss: 0.0087\n",
            "Epoch 11/40\n",
            "329/329 [==============================] - 0s 773us/step - loss: 0.0143 - val_loss: 0.0077\n",
            "Epoch 12/40\n",
            "329/329 [==============================] - 0s 756us/step - loss: 0.0140 - val_loss: 0.0060\n",
            "Epoch 13/40\n",
            "329/329 [==============================] - 0s 872us/step - loss: 0.0137 - val_loss: 0.0066\n",
            "Epoch 14/40\n",
            "329/329 [==============================] - 0s 870us/step - loss: 0.0144 - val_loss: 0.0070\n",
            "Epoch 15/40\n",
            "329/329 [==============================] - 0s 754us/step - loss: 0.0140 - val_loss: 0.0066\n",
            "Epoch 16/40\n",
            "329/329 [==============================] - 0s 708us/step - loss: 0.0127 - val_loss: 0.0055\n",
            "Epoch 17/40\n",
            "329/329 [==============================] - 0s 750us/step - loss: 0.0126 - val_loss: 0.0084\n",
            "Epoch 18/40\n",
            "329/329 [==============================] - 0s 702us/step - loss: 0.0117 - val_loss: 0.0048\n",
            "Epoch 19/40\n",
            "329/329 [==============================] - 0s 718us/step - loss: 0.0126 - val_loss: 0.0046\n",
            "Epoch 20/40\n",
            "329/329 [==============================] - 0s 722us/step - loss: 0.0125 - val_loss: 0.0046\n",
            "Epoch 21/40\n",
            "329/329 [==============================] - 0s 710us/step - loss: 0.0111 - val_loss: 0.0043\n",
            "Epoch 22/40\n",
            "329/329 [==============================] - 0s 791us/step - loss: 0.0116 - val_loss: 0.0048\n",
            "Epoch 23/40\n",
            "329/329 [==============================] - 0s 711us/step - loss: 0.0103 - val_loss: 0.0050\n",
            "Epoch 24/40\n",
            "329/329 [==============================] - 0s 701us/step - loss: 0.0099 - val_loss: 0.0038\n",
            "Epoch 25/40\n",
            "329/329 [==============================] - 0s 693us/step - loss: 0.0097 - val_loss: 0.0050\n",
            "Epoch 26/40\n",
            "329/329 [==============================] - 0s 827us/step - loss: 0.0101 - val_loss: 0.0093\n",
            "Epoch 27/40\n",
            "329/329 [==============================] - 0s 736us/step - loss: 0.0106 - val_loss: 0.0050\n",
            "Epoch 28/40\n",
            "329/329 [==============================] - 0s 687us/step - loss: 0.0088 - val_loss: 0.0034\n",
            "Epoch 29/40\n",
            "329/329 [==============================] - 0s 784us/step - loss: 0.0094 - val_loss: 0.0039\n",
            "Epoch 30/40\n",
            "329/329 [==============================] - 0s 787us/step - loss: 0.0082 - val_loss: 0.0032\n",
            "Epoch 31/40\n",
            "329/329 [==============================] - 0s 717us/step - loss: 0.0091 - val_loss: 0.0041\n",
            "Epoch 32/40\n",
            "329/329 [==============================] - 0s 739us/step - loss: 0.0100 - val_loss: 0.0050\n",
            "Epoch 33/40\n",
            "329/329 [==============================] - 0s 729us/step - loss: 0.0083 - val_loss: 0.0031\n",
            "Epoch 34/40\n",
            "329/329 [==============================] - 0s 760us/step - loss: 0.0085 - val_loss: 0.0036\n",
            "Epoch 35/40\n",
            "329/329 [==============================] - 0s 710us/step - loss: 0.0080 - val_loss: 0.0028\n",
            "Epoch 36/40\n",
            "329/329 [==============================] - 0s 685us/step - loss: 0.0078 - val_loss: 0.0028\n",
            "Epoch 37/40\n",
            "329/329 [==============================] - 0s 738us/step - loss: 0.0081 - val_loss: 0.0028\n",
            "Epoch 38/40\n",
            "329/329 [==============================] - 0s 726us/step - loss: 0.0074 - val_loss: 0.0037\n",
            "Epoch 39/40\n",
            "329/329 [==============================] - 0s 697us/step - loss: 0.0075 - val_loss: 0.0038\n",
            "Epoch 40/40\n",
            "329/329 [==============================] - 0s 792us/step - loss: 0.0077 - val_loss: 0.0029\n",
            "Training time: 13.006954431533813s\n"
          ],
          "name": "stdout"
        }
      ]
    },
    {
      "cell_type": "code",
      "metadata": {
        "id": "5ybZBDleIhiI",
        "colab_type": "code",
        "colab": {}
      },
      "source": [
        "\n",
        "performance_log_CNN_BiLSTM_Attention_Mechanism=pd.read_csv(\"model_history_log_CNN_BiLSTM_Attention_Mechanism.csv\")\n"
      ],
      "execution_count": null,
      "outputs": []
    },
    {
      "cell_type": "code",
      "metadata": {
        "id": "3MRXsFBG8aNW",
        "colab_type": "code",
        "colab": {
          "base_uri": "https://localhost:8080/",
          "height": 35
        },
        "outputId": "1b1717ea-8a1a-4659-d9cc-c86186a78262"
      },
      "source": [
        "#Getting the models predicted price values\n",
        "predictions_CNN_BiLSTM_Attention_Mechanism = model_cnn_lstm.predict(x_test) \n",
        "predictions_CNN_BiLSTM_Attention_Mechanism = scaler.inverse_transform(predictions_CNN_BiLSTM_Attention_Mechanism)#Undo scaling\n",
        "\n",
        "#Calculate/Get the value of RMSE\n",
        "rmse_CNN_BiLSTM_Attention_Mechanism=np.sqrt(np.mean(((predictions_CNN_BiLSTM_Attention_Mechanism- y_test)**2)))\n",
        "print(rmse_CNN_BiLSTM_Attention_Mechanism)"
      ],
      "execution_count": null,
      "outputs": [
        {
          "output_type": "stream",
          "text": [
            "0.027881618478358506\n"
          ],
          "name": "stdout"
        }
      ]
    },
    {
      "cell_type": "code",
      "metadata": {
        "id": "CqSgs5zqSBWf",
        "colab_type": "code",
        "colab": {
          "base_uri": "https://localhost:8080/",
          "height": 35
        },
        "outputId": "f3ad3423-6960-4e35-e9e3-e8e1f941f391"
      },
      "source": [
        "cod_CNN_BiLSTM_Attention_Mechanism = r2_score(y_test, predictions_CNN_BiLSTM_Attention_Mechanism) \n",
        "print(cod_CNN_BiLSTM_Attention_Mechanism)"
      ],
      "execution_count": null,
      "outputs": [
        {
          "output_type": "stream",
          "text": [
            "0.8363499220013866\n"
          ],
          "name": "stdout"
        }
      ]
    },
    {
      "cell_type": "code",
      "metadata": {
        "id": "Y2FJBHlwsqKt",
        "colab_type": "code",
        "colab": {}
      },
      "source": [
        ""
      ],
      "execution_count": null,
      "outputs": []
    },
    {
      "cell_type": "code",
      "metadata": {
        "id": "HzR7DvOpsp4C",
        "colab_type": "code",
        "colab": {}
      },
      "source": [
        ""
      ],
      "execution_count": null,
      "outputs": []
    },
    {
      "cell_type": "code",
      "metadata": {
        "id": "ttz7oYrTsp1y",
        "colab_type": "code",
        "colab": {}
      },
      "source": [
        "# preprocessing"
      ],
      "execution_count": null,
      "outputs": []
    },
    {
      "cell_type": "code",
      "metadata": {
        "id": "yGIdPi_P-oMU",
        "colab_type": "code",
        "colab": {}
      },
      "source": [
        "df = data_1\n",
        "data_2 = df.filter(['Close'])\n",
        "len(data_2)\n",
        "\n",
        "data_2 = data_2[data_2['Close'].notna()]\n",
        "len(data_2)\n",
        "\n",
        "import math\n",
        "from sklearn.preprocessing import MinMaxScaler\n",
        "import numpy as np\n",
        "#Converting the dataframe to a numpy array\n",
        "dataset = data_2.values\n",
        "#Get /Compute the number of rows to train the model on\n",
        "training_data_len = math.ceil( len(dataset) -50) \n",
        "# training_data_len = math.ceil( len(dataset) *.6)\n",
        "\n",
        "\n",
        "\n",
        "\n",
        "#Scale the all of the data to be values between 0 and 1 \n",
        "scaler = MinMaxScaler(feature_range=(0, 1)) \n",
        "scaled_data = scaler.fit_transform(dataset)\n",
        "\n",
        "\n",
        "#Create the scaled training data set \n",
        "train_data = scaled_data[0:training_data_len  , : ]\n",
        "#Split the data into x_train and y_train data sets\n",
        "x_train=[]\n",
        "y_train = []\n",
        "for i in range(10,len(train_data)):\n",
        "    x_train.append(train_data[i-10:i,0])\n",
        "    y_train.append(train_data[i,0])\n",
        "\n",
        "\n",
        "#Convert x_train and y_train to numpy arrays\n",
        "x_train, y_train = np.array(x_train), np.array(y_train)    \n",
        "\n",
        "\n",
        "#Reshape the data into the shape accepted by the CNN + Attention + BiLSTM\n",
        "x_train = np.reshape(x_train, (x_train.shape[0],x_train.shape[1],1))\n",
        "\n",
        "#Test data set\n",
        "test_data = scaled_data[training_data_len - 10: , : ]\n",
        "#Create the x_test and y_test data sets\n",
        "x_test = []\n",
        "y_test =  dataset[training_data_len : , : ] \n",
        "for i in range(10,len(test_data)):\n",
        "    x_test.append(test_data[i-10:i,0])\n",
        "\n",
        "\n",
        "\n",
        "#Convert x_test to a numpy array \n",
        "x_test = np.array(x_test)\n",
        "\n",
        "#Reshape the data into the shape accepted by the CNN + Attention + BiLSTM\n",
        "x_test = np.reshape(x_test, (x_test.shape[0],x_test.shape[1],1))"
      ],
      "execution_count": null,
      "outputs": []
    },
    {
      "cell_type": "code",
      "metadata": {
        "id": "OTsY9MDXQMv2",
        "colab_type": "code",
        "colab": {
          "base_uri": "https://localhost:8080/",
          "height": 35
        },
        "outputId": "2dbf9b11-1b15-4a3f-9e70-64492e33c6d4"
      },
      "source": [
        "x_train.shape[1],1"
      ],
      "execution_count": null,
      "outputs": [
        {
          "output_type": "execute_result",
          "data": {
            "text/plain": [
              "(10, 1)"
            ]
          },
          "metadata": {
            "tags": []
          },
          "execution_count": 204
        }
      ]
    },
    {
      "cell_type": "markdown",
      "metadata": {
        "id": "-_aYAKrIJYQa",
        "colab_type": "text"
      },
      "source": [
        "## CNN + LSTM"
      ]
    },
    {
      "cell_type": "code",
      "metadata": {
        "id": "PTzdc-InN2PK",
        "colab_type": "code",
        "colab": {
          "base_uri": "https://localhost:8080/",
          "height": 110
        },
        "outputId": "eded6bc7-83fe-4e38-c28a-e96424afb218"
      },
      "source": [
        "\n",
        "from keras.models import Sequential\n",
        "from keras.layers import Dense, LSTM\n",
        "from keras.optimizers import Adam\n",
        "from keras.layers.convolutional import Conv1D\n",
        "from keras.layers.convolutional import MaxPooling1D\n",
        "from keras.layers import Bidirectional\n",
        "from keras.layers import Dense, Input, CuDNNLSTM, Embedding, Dropout, Activation, CuDNNGRU, Conv1D\n",
        "ip = x_train[1].shape\n",
        "\n",
        "model_new_cnn_lstm = Sequential()\n",
        "model_new_cnn_lstm.add(LSTM(units=50, return_sequences=True,input_shape=ip))\n",
        "model_new_cnn_lstm.add(Conv1D(filters=50, kernel_size=3, padding='same', activation='relu'))\n",
        "model_new_cnn_lstm.add(MaxPooling1D(pool_size=2))\n",
        "\n",
        "\n",
        "model_new_cnn_lstm.add(Flatten())\n",
        "model_new_cnn_lstm.add(Dense(units=25))\n",
        "model_new_cnn_lstm.add(Dense(units=1))\n",
        "\n",
        "#Compile the model\n",
        "model_new_cnn_lstm.compile(optimizer=Adam(lr=0.001), loss='mean_squared_error')"
      ],
      "execution_count": null,
      "outputs": [
        {
          "output_type": "stream",
          "text": [
            "WARNING:tensorflow:From /tensorflow-1.15.2/python3.6/keras/backend/tensorflow_backend.py:4070: The name tf.nn.max_pool is deprecated. Please use tf.nn.max_pool2d instead.\n",
            "\n"
          ],
          "name": "stdout"
        },
        {
          "output_type": "stream",
          "text": [
            "WARNING:tensorflow:From /tensorflow-1.15.2/python3.6/keras/backend/tensorflow_backend.py:4070: The name tf.nn.max_pool is deprecated. Please use tf.nn.max_pool2d instead.\n",
            "\n"
          ],
          "name": "stderr"
        }
      ]
    },
    {
      "cell_type": "code",
      "metadata": {
        "id": "1P9_vkEQSi-c",
        "colab_type": "code",
        "colab": {}
      },
      "source": [
        "# model_new_cnn_lstm.summary()"
      ],
      "execution_count": null,
      "outputs": []
    },
    {
      "cell_type": "code",
      "metadata": {
        "id": "OOwmOTXJJdOU",
        "colab_type": "code",
        "colab": {}
      },
      "source": [
        "csv_logger_new_cnn_lstm=0\n",
        "csv_logger_new_cnn_lstm = CSVLogger(\"model_history_log_new_cnn_lstm.csv\", append=False)"
      ],
      "execution_count": null,
      "outputs": []
    },
    {
      "cell_type": "code",
      "metadata": {
        "id": "pXChnEivS4rT",
        "colab_type": "code",
        "colab": {
          "base_uri": "https://localhost:8080/",
          "height": 1000
        },
        "outputId": "a472dabb-2463-414f-c5f3-0b447c864d59"
      },
      "source": [
        "start_lstm = time.time()\n",
        " \n",
        "#Train the model\n",
        "model_new_cnn_lstm.fit(x_train, y_train, batch_size=10, epochs=40,validation_data=(x_test, scaled_data[training_data_len : , : ]),callbacks=[csv_logger_new_cnn_lstm]) \n",
        " \n",
        "stop_lstm = time.time()\n",
        "print(f\"Training time: {stop_lstm - start_lstm}s\")\n",
        "time_model_new_cnn_lstm= stop_lstm-start_lstm"
      ],
      "execution_count": null,
      "outputs": [
        {
          "output_type": "stream",
          "text": [
            "Train on 329 samples, validate on 50 samples\n",
            "Epoch 1/40\n",
            "329/329 [==============================] - 1s 4ms/step - loss: 0.0379 - val_loss: 0.0043\n",
            "Epoch 2/40\n",
            "329/329 [==============================] - 0s 688us/step - loss: 0.0129 - val_loss: 0.0046\n",
            "Epoch 3/40\n",
            "329/329 [==============================] - 0s 677us/step - loss: 0.0115 - val_loss: 0.0042\n",
            "Epoch 4/40\n",
            "329/329 [==============================] - 0s 774us/step - loss: 0.0096 - val_loss: 0.0029\n",
            "Epoch 5/40\n",
            "329/329 [==============================] - 0s 713us/step - loss: 0.0078 - val_loss: 0.0044\n",
            "Epoch 6/40\n",
            "329/329 [==============================] - 0s 717us/step - loss: 0.0070 - val_loss: 0.0024\n",
            "Epoch 7/40\n",
            "329/329 [==============================] - 0s 746us/step - loss: 0.0066 - val_loss: 0.0022\n",
            "Epoch 8/40\n",
            "329/329 [==============================] - 0s 700us/step - loss: 0.0064 - val_loss: 0.0025\n",
            "Epoch 9/40\n",
            "329/329 [==============================] - 0s 692us/step - loss: 0.0056 - val_loss: 0.0023\n",
            "Epoch 10/40\n",
            "329/329 [==============================] - 0s 693us/step - loss: 0.0054 - val_loss: 0.0020\n",
            "Epoch 11/40\n",
            "329/329 [==============================] - 0s 695us/step - loss: 0.0054 - val_loss: 0.0020\n",
            "Epoch 12/40\n",
            "329/329 [==============================] - 0s 690us/step - loss: 0.0056 - val_loss: 0.0019\n",
            "Epoch 13/40\n",
            "329/329 [==============================] - 0s 749us/step - loss: 0.0050 - val_loss: 0.0018\n",
            "Epoch 14/40\n",
            "329/329 [==============================] - 0s 672us/step - loss: 0.0059 - val_loss: 0.0022\n",
            "Epoch 15/40\n",
            "329/329 [==============================] - 0s 685us/step - loss: 0.0053 - val_loss: 0.0018\n",
            "Epoch 16/40\n",
            "329/329 [==============================] - 0s 682us/step - loss: 0.0051 - val_loss: 0.0025\n",
            "Epoch 17/40\n",
            "329/329 [==============================] - 0s 748us/step - loss: 0.0043 - val_loss: 0.0021\n",
            "Epoch 18/40\n",
            "329/329 [==============================] - 0s 703us/step - loss: 0.0044 - val_loss: 0.0019\n",
            "Epoch 19/40\n",
            "329/329 [==============================] - 0s 677us/step - loss: 0.0046 - val_loss: 0.0018\n",
            "Epoch 20/40\n",
            "329/329 [==============================] - 0s 700us/step - loss: 0.0048 - val_loss: 0.0029\n",
            "Epoch 21/40\n",
            "329/329 [==============================] - 0s 703us/step - loss: 0.0046 - val_loss: 0.0018\n",
            "Epoch 22/40\n",
            "329/329 [==============================] - 0s 708us/step - loss: 0.0047 - val_loss: 0.0017\n",
            "Epoch 23/40\n",
            "329/329 [==============================] - 0s 680us/step - loss: 0.0049 - val_loss: 0.0018\n",
            "Epoch 24/40\n",
            "329/329 [==============================] - 0s 838us/step - loss: 0.0041 - val_loss: 0.0026\n",
            "Epoch 25/40\n",
            "329/329 [==============================] - 0s 711us/step - loss: 0.0046 - val_loss: 0.0035\n",
            "Epoch 26/40\n",
            "329/329 [==============================] - 0s 763us/step - loss: 0.0049 - val_loss: 0.0023\n",
            "Epoch 27/40\n",
            "329/329 [==============================] - 0s 721us/step - loss: 0.0043 - val_loss: 0.0022\n",
            "Epoch 28/40\n",
            "329/329 [==============================] - 0s 678us/step - loss: 0.0040 - val_loss: 0.0017\n",
            "Epoch 29/40\n",
            "329/329 [==============================] - 0s 708us/step - loss: 0.0042 - val_loss: 0.0018\n",
            "Epoch 30/40\n",
            "329/329 [==============================] - 0s 735us/step - loss: 0.0037 - val_loss: 0.0020\n",
            "Epoch 31/40\n",
            "329/329 [==============================] - 0s 703us/step - loss: 0.0041 - val_loss: 0.0016\n",
            "Epoch 32/40\n",
            "329/329 [==============================] - 0s 689us/step - loss: 0.0038 - val_loss: 0.0019\n",
            "Epoch 33/40\n",
            "329/329 [==============================] - 0s 656us/step - loss: 0.0037 - val_loss: 0.0016\n",
            "Epoch 34/40\n",
            "329/329 [==============================] - 0s 718us/step - loss: 0.0036 - val_loss: 0.0019\n",
            "Epoch 35/40\n",
            "329/329 [==============================] - 0s 694us/step - loss: 0.0044 - val_loss: 0.0018\n",
            "Epoch 36/40\n",
            "329/329 [==============================] - 0s 712us/step - loss: 0.0036 - val_loss: 0.0017\n",
            "Epoch 37/40\n",
            "329/329 [==============================] - 0s 693us/step - loss: 0.0036 - val_loss: 0.0017\n",
            "Epoch 38/40\n",
            "329/329 [==============================] - 0s 753us/step - loss: 0.0038 - val_loss: 0.0033\n",
            "Epoch 39/40\n",
            "329/329 [==============================] - 0s 750us/step - loss: 0.0038 - val_loss: 0.0015\n",
            "Epoch 40/40\n",
            "329/329 [==============================] - 0s 770us/step - loss: 0.0037 - val_loss: 0.0034\n",
            "Training time: 12.530118703842163s\n"
          ],
          "name": "stdout"
        }
      ]
    },
    {
      "cell_type": "code",
      "metadata": {
        "id": "C8HSzX6hJq3m",
        "colab_type": "code",
        "colab": {}
      },
      "source": [
        "performance_log_lstm_II=pd.read_csv(\"model_history_log_new_cnn_lstm.csv\")"
      ],
      "execution_count": null,
      "outputs": []
    },
    {
      "cell_type": "code",
      "metadata": {
        "id": "OVtQko9UHzbA",
        "colab_type": "code",
        "colab": {
          "base_uri": "https://localhost:8080/",
          "height": 35
        },
        "outputId": "cfcce53e-4a93-408c-b160-609aca6db744"
      },
      "source": [
        "#Getting the models predicted price values\n",
        "predictions_model_new_cnn_lstm = model_new_cnn_lstm.predict(x_test) \n",
        "predictions_model_new_cnn_lstm = scaler.inverse_transform(predictions_model_new_cnn_lstm)#Undo scaling\n",
        "\n",
        "#Calculate/Get the value of RMSE\n",
        "rmse_model_new_cnn_lstm=np.sqrt(np.mean(((predictions_model_new_cnn_lstm- y_test)**2)))\n",
        "print(rmse_model_new_cnn_lstm)"
      ],
      "execution_count": null,
      "outputs": [
        {
          "output_type": "stream",
          "text": [
            "0.03000193583160201\n"
          ],
          "name": "stdout"
        }
      ]
    },
    {
      "cell_type": "code",
      "metadata": {
        "id": "QftKOJ71i9VT",
        "colab_type": "code",
        "colab": {
          "base_uri": "https://localhost:8080/",
          "height": 35
        },
        "outputId": "ed235d77-22a5-4f98-905d-e33d8f57fac0"
      },
      "source": [
        "cod_model_new_cnn_lstm = r2_score(y_test, predictions_model_new_cnn_lstm) \n",
        "print(cod_model_new_cnn_lstm)"
      ],
      "execution_count": null,
      "outputs": [
        {
          "output_type": "stream",
          "text": [
            "0.8105132652847815\n"
          ],
          "name": "stdout"
        }
      ]
    },
    {
      "cell_type": "code",
      "metadata": {
        "id": "ZmIIAaF6K6E7",
        "colab_type": "code",
        "colab": {
          "base_uri": "https://localhost:8080/",
          "height": 90
        },
        "outputId": "ece64a1e-274c-4795-8f5b-255ece98ba9a"
      },
      "source": [
        "print(rmse_fastrnn_hyb_CNN_BiLSTM)\n",
        "print(rmse_CNN_LSTM_BiLSTM)\n",
        "print(rmse_lstm_1)\n",
        "print(rmse_lstm_II)"
      ],
      "execution_count": null,
      "outputs": [
        {
          "output_type": "stream",
          "text": [
            "0.021336595916915876\n",
            "0.02144680405111002\n",
            "0.022682774424281526\n",
            "0.022635819221926638\n"
          ],
          "name": "stdout"
        }
      ]
    },
    {
      "cell_type": "markdown",
      "metadata": {
        "id": "cDtrNcb_K7Il",
        "colab_type": "text"
      },
      "source": [
        "## Dense + [Conv1D + MaxPooling1D]*2 + LSTM*2 + Dense*2"
      ]
    },
    {
      "cell_type": "code",
      "metadata": {
        "id": "qwKc1ps1Po-k",
        "colab_type": "code",
        "colab": {}
      },
      "source": [
        "ip = x_train[1].shape\n",
        "model_cnn_lstm = Sequential()\n",
        "model_cnn_lstm.add(Dense(units=128))\n",
        "model_cnn_lstm.add(Conv1D(filters=112, kernel_size=1, padding='same', activation='relu',input_shape=(x_train.shape[1],1)))\n",
        "model_cnn_lstm.add(MaxPooling1D(pool_size=2))\n",
        "model_cnn_lstm.add(Conv1D(filters=64, kernel_size=1, padding='same', activation='relu'))\n",
        "model_cnn_lstm.add(MaxPooling1D(pool_size=1))\n",
        "\n",
        "model_cnn_lstm.add(LSTM(units=128, return_sequences=True))\n",
        "model_cnn_lstm.add(LSTM(units=32, return_sequences=False))\n",
        "\n",
        "model_cnn_lstm.add(Dense(units=100))\n",
        "model_cnn_lstm.add(Dense(units=1))\n",
        "\n",
        "model_cnn_lstm.compile(optimizer=Adam(lr=0.001), loss='mean_squared_error')"
      ],
      "execution_count": null,
      "outputs": []
    },
    {
      "cell_type": "code",
      "metadata": {
        "id": "AJeLKmF9KuhB",
        "colab_type": "code",
        "colab": {}
      },
      "source": [
        "csv_logger_hybrid=0\n",
        "csv_logger_hybrid = CSVLogger(\"model_history_log_hybrid.csv\", append=False)"
      ],
      "execution_count": null,
      "outputs": []
    },
    {
      "cell_type": "code",
      "metadata": {
        "id": "QkHE-6sckwsJ",
        "colab_type": "code",
        "colab": {
          "base_uri": "https://localhost:8080/",
          "height": 1000
        },
        "outputId": "ad724a2d-f3ca-46fd-eda8-0692d844b346"
      },
      "source": [
        "start_lstm = time.time()\n",
        " \n",
        "#Train the model\n",
        "model_cnn_lstm.fit(x_train, y_train, batch_size=10, epochs=40,validation_data=(x_test, scaled_data[training_data_len : , : ]),callbacks=[csv_logger_hybrid]) \n",
        " \n",
        "stop_lstm = time.time()\n",
        "print(f\"Training time: {stop_lstm - start_lstm}s\")\n",
        "time_model_hybrid= stop_lstm-start_lstm"
      ],
      "execution_count": null,
      "outputs": [
        {
          "output_type": "stream",
          "text": [
            "Train on 329 samples, validate on 50 samples\n",
            "Epoch 1/40\n",
            "329/329 [==============================] - 0s 1ms/step - loss: 0.0042 - val_loss: 0.0026\n",
            "Epoch 2/40\n",
            "329/329 [==============================] - 0s 1ms/step - loss: 0.0040 - val_loss: 0.0024\n",
            "Epoch 3/40\n",
            "329/329 [==============================] - 0s 1ms/step - loss: 0.0044 - val_loss: 0.0022\n",
            "Epoch 4/40\n",
            "329/329 [==============================] - 0s 1ms/step - loss: 0.0044 - val_loss: 0.0024\n",
            "Epoch 5/40\n",
            "329/329 [==============================] - 0s 1ms/step - loss: 0.0042 - val_loss: 0.0024\n",
            "Epoch 6/40\n",
            "329/329 [==============================] - 0s 1ms/step - loss: 0.0047 - val_loss: 0.0024\n",
            "Epoch 7/40\n",
            "329/329 [==============================] - 0s 1ms/step - loss: 0.0040 - val_loss: 0.0027\n",
            "Epoch 8/40\n",
            "329/329 [==============================] - 0s 1ms/step - loss: 0.0042 - val_loss: 0.0027\n",
            "Epoch 9/40\n",
            "329/329 [==============================] - 0s 1ms/step - loss: 0.0049 - val_loss: 0.0024\n",
            "Epoch 10/40\n",
            "329/329 [==============================] - 0s 1ms/step - loss: 0.0041 - val_loss: 0.0044\n",
            "Epoch 11/40\n",
            "329/329 [==============================] - 0s 1ms/step - loss: 0.0053 - val_loss: 0.0023\n",
            "Epoch 12/40\n",
            "329/329 [==============================] - 0s 1ms/step - loss: 0.0043 - val_loss: 0.0029\n",
            "Epoch 13/40\n",
            "329/329 [==============================] - 0s 1ms/step - loss: 0.0041 - val_loss: 0.0025\n",
            "Epoch 14/40\n",
            "329/329 [==============================] - 0s 1ms/step - loss: 0.0042 - val_loss: 0.0022\n",
            "Epoch 15/40\n",
            "329/329 [==============================] - 0s 1ms/step - loss: 0.0044 - val_loss: 0.0035\n",
            "Epoch 16/40\n",
            "329/329 [==============================] - 0s 1ms/step - loss: 0.0040 - val_loss: 0.0025\n",
            "Epoch 17/40\n",
            "329/329 [==============================] - 0s 1ms/step - loss: 0.0042 - val_loss: 0.0040\n",
            "Epoch 18/40\n",
            "329/329 [==============================] - 0s 1ms/step - loss: 0.0043 - val_loss: 0.0027\n",
            "Epoch 19/40\n",
            "329/329 [==============================] - 0s 1ms/step - loss: 0.0049 - val_loss: 0.0027\n",
            "Epoch 20/40\n",
            "329/329 [==============================] - 0s 1ms/step - loss: 0.0040 - val_loss: 0.0024\n",
            "Epoch 21/40\n",
            "329/329 [==============================] - 0s 1ms/step - loss: 0.0040 - val_loss: 0.0037\n",
            "Epoch 22/40\n",
            "329/329 [==============================] - 0s 1ms/step - loss: 0.0042 - val_loss: 0.0025\n",
            "Epoch 23/40\n",
            "329/329 [==============================] - 0s 1ms/step - loss: 0.0040 - val_loss: 0.0025\n",
            "Epoch 24/40\n",
            "329/329 [==============================] - 0s 1ms/step - loss: 0.0045 - val_loss: 0.0032\n",
            "Epoch 25/40\n",
            "329/329 [==============================] - 0s 1ms/step - loss: 0.0043 - val_loss: 0.0026\n",
            "Epoch 26/40\n",
            "329/329 [==============================] - 0s 1ms/step - loss: 0.0039 - val_loss: 0.0023\n",
            "Epoch 27/40\n",
            "329/329 [==============================] - 0s 1ms/step - loss: 0.0043 - val_loss: 0.0035\n",
            "Epoch 28/40\n",
            "329/329 [==============================] - 0s 1ms/step - loss: 0.0046 - val_loss: 0.0022\n",
            "Epoch 29/40\n",
            "329/329 [==============================] - 0s 1ms/step - loss: 0.0041 - val_loss: 0.0024\n",
            "Epoch 30/40\n",
            "329/329 [==============================] - 0s 1ms/step - loss: 0.0045 - val_loss: 0.0026\n",
            "Epoch 31/40\n",
            "329/329 [==============================] - 0s 1ms/step - loss: 0.0043 - val_loss: 0.0024\n",
            "Epoch 32/40\n",
            "329/329 [==============================] - 0s 1ms/step - loss: 0.0041 - val_loss: 0.0032\n",
            "Epoch 33/40\n",
            "329/329 [==============================] - 0s 1ms/step - loss: 0.0039 - val_loss: 0.0024\n",
            "Epoch 34/40\n",
            "329/329 [==============================] - 0s 1ms/step - loss: 0.0039 - val_loss: 0.0042\n",
            "Epoch 35/40\n",
            "329/329 [==============================] - 0s 1ms/step - loss: 0.0046 - val_loss: 0.0029\n",
            "Epoch 36/40\n",
            "329/329 [==============================] - 0s 1ms/step - loss: 0.0043 - val_loss: 0.0025\n",
            "Epoch 37/40\n",
            "329/329 [==============================] - 0s 1ms/step - loss: 0.0040 - val_loss: 0.0034\n",
            "Epoch 38/40\n",
            "329/329 [==============================] - 0s 1ms/step - loss: 0.0038 - val_loss: 0.0043\n",
            "Epoch 39/40\n",
            "329/329 [==============================] - 0s 1ms/step - loss: 0.0039 - val_loss: 0.0027\n",
            "Epoch 40/40\n",
            "329/329 [==============================] - 0s 1ms/step - loss: 0.0042 - val_loss: 0.0025\n",
            "Training time: 17.894861698150635s\n"
          ],
          "name": "stdout"
        }
      ]
    },
    {
      "cell_type": "code",
      "metadata": {
        "id": "VguHvRUHK065",
        "colab_type": "code",
        "colab": {}
      },
      "source": [
        "performance_log_hybrid=pd.read_csv(\"model_history_log_hybrid.csv\")"
      ],
      "execution_count": null,
      "outputs": []
    },
    {
      "cell_type": "code",
      "metadata": {
        "id": "xuKpvDy71lC-",
        "colab_type": "code",
        "colab": {
          "base_uri": "https://localhost:8080/",
          "height": 35
        },
        "outputId": "7e9e2448-8c14-4276-84fc-b4f3a793f75b"
      },
      "source": [
        "#Getting the models predicted price values\n",
        "predictions_model_hybrid = model_cnn_lstm.predict(x_test) \n",
        "predictions_model_hybrid = scaler.inverse_transform(predictions_model_hybrid)#Undo scaling\n",
        "\n",
        "#Calculate/Get the value of RMSE\n",
        "rmse_model_hybrid=np.sqrt(np.mean(((predictions_model_hybrid - y_test)**2)))\n",
        "print(rmse_model_hybrid)"
      ],
      "execution_count": null,
      "outputs": [
        {
          "output_type": "stream",
          "text": [
            "0.0257786166779353\n"
          ],
          "name": "stdout"
        }
      ]
    },
    {
      "cell_type": "code",
      "metadata": {
        "id": "7pbEe9lIL2z4",
        "colab_type": "code",
        "colab": {
          "base_uri": "https://localhost:8080/",
          "height": 35
        },
        "outputId": "5f900bfe-d080-4ec4-958d-7dccd05c9a9e"
      },
      "source": [
        "cod_model_hybrid = r2_score(y_test, predictions_model_hybrid) \n",
        "print(cod_model_hybrid)"
      ],
      "execution_count": null,
      "outputs": [
        {
          "output_type": "stream",
          "text": [
            "0.8601058758193674\n"
          ],
          "name": "stdout"
        }
      ]
    },
    {
      "cell_type": "code",
      "metadata": {
        "id": "5mJW8YVjL2US",
        "colab_type": "code",
        "colab": {
          "base_uri": "https://localhost:8080/",
          "height": 90
        },
        "outputId": "e01ad25f-8b8f-40bb-fe70-e93f288fad74"
      },
      "source": [
        "print(rmse_fastrnn_hyb_CNN_BiLSTM)\n",
        "print(rmse_CNN_LSTM_BiLSTM)\n",
        "print(rmse_lstm_1)\n",
        "print(rmse_lstm_II)"
      ],
      "execution_count": null,
      "outputs": [
        {
          "output_type": "stream",
          "text": [
            "0.021336595916915876\n",
            "0.02144680405111002\n",
            "0.022682774424281526\n",
            "0.022635819221926638\n"
          ],
          "name": "stdout"
        }
      ]
    },
    {
      "cell_type": "code",
      "metadata": {
        "id": "5waHJTGML2Jd",
        "colab_type": "code",
        "colab": {}
      },
      "source": [
        ""
      ],
      "execution_count": null,
      "outputs": []
    },
    {
      "cell_type": "markdown",
      "metadata": {
        "id": "by5Ffbv1MG-Z",
        "colab_type": "text"
      },
      "source": [
        "## Save the data"
      ]
    },
    {
      "cell_type": "code",
      "metadata": {
        "id": "I3JCxE050M-P",
        "colab_type": "code",
        "colab": {}
      },
      "source": [
        "df_final = pd.DataFrame(columns=['Variabel_name','RMSE','Time(in sec)','Description','R-Square value'])"
      ],
      "execution_count": null,
      "outputs": []
    },
    {
      "cell_type": "code",
      "metadata": {
        "id": "5ZxfLD4wmmrY",
        "colab_type": "code",
        "colab": {}
      },
      "source": [
        "df_final.loc[0] = pd.Series({'Variabel_name': str('FastRNN'),'RMSE':rmse_fastgrnn ,'Time(in sec)':time_fastrnn,'Description':str('-'),'R-Square value': cod_fastrnn})\n",
        "df_final.loc[1] = pd.Series({'Variabel_name': str('LSTM (50 Units)'),'RMSE':rmse_lstm_1 ,'Time(in sec)':time_lstm_1,'Description':str('-'),'R-Square value':cod_lstm_1})\n",
        "df_final.loc[2] = pd.Series({'Variabel_name': str('LSTM (1 Unit)'),'RMSE':rmse_lstm_II ,'Time(in sec)':time_lstm_II,'Description':str('-'),'R-Square value':cod_lstm_II})\n",
        "df_final.loc[3] = pd.Series({'Variabel_name': str('Arima'),'RMSE':error ,'Time(in sec)':str('-'),'Description':str('-'),'R-Square value':cod_arima})\n",
        "df_final.loc[4] = pd.Series({'Variabel_name': str('FB_Prophet'),'RMSE':rmse_fb ,'Time(in sec)':time_fb,'Description':str('-'),'R-Square value':cod_fb})\n",
        "\n",
        "df_final.loc[5] = pd.Series({'Variabel_name': str('CNN_BiLSTM'),'RMSE':rmse_CNN_LSTM_BiLSTM ,'Time(in sec)':time_CNN_LSTM_BiLSTM,'Description':str('conv1d + maxpooling + biLSTM + Dropout + dense'),'R-Square value':cod_CNN_LSTM_BiLSTM})\n",
        "df_final.loc[6] = pd.Series({'Variabel_name': str('FASTRNN_CNN_BiLSTM'),'RMSE':rmse_fastrnn_hyb_CNN_BiLSTM ,'Time(in sec)':time_fastrnn_hyb_CNN_BiLSTM,'Description':str('FastCell + cov1D + Maxpooling(unit=1) + BiLSTM + dropout + dense + dense'),'R-Square value':cod_fastrnn_hyb_CNN_BiLSTM})\n",
        "\n",
        "df_final.loc[7] = pd.Series({'Variabel_name': str('LSTM_Attention_(ReLU)'),'RMSE':rmse_CNN_LSTM_BiLSTM ,'Time(in sec)':time_CNN_LSTM_BiLSTM,'Description':str('Conv1d + BiLSTM + Dropout + [Dense]*2'),'R-Square value':cod_CNN_LSTM_BiLSTM})\n",
        "df_final.loc[8] = pd.Series({'Variabel_name': str('LSTM_CNN'),'RMSE':rmse_model_new_cnn_lstm ,'Time(in sec)':time_model_new_cnn_lstm,'Description':str('LSTM + Conv1d + MaxPooling + Flatten + [Dense]*2'),'R-Square value':cod_model_new_cnn_lstm})\n",
        "df_final.loc[9] = pd.Series({'Variabel_name': str('CNN_2_LSTM_2'),'RMSE':rmse_model_hybrid ,'Time(in sec)':time_model_hybrid,'Description':str('Dense + [Conv1D + MaxPooling1D]*2 + LSTM*2 + Dense*2'),'R-Square value':cod_model_hybrid})\n",
        "\n"
      ],
      "execution_count": null,
      "outputs": []
    },
    {
      "cell_type": "code",
      "metadata": {
        "id": "qZMNFCSoyh0P",
        "colab_type": "code",
        "colab": {
          "base_uri": "https://localhost:8080/",
          "height": 254
        },
        "outputId": "1abf0a55-15d9-417b-ecb8-fe9e8862e463"
      },
      "source": [
        "print(df_final)\n",
        "df_final.to_csv('Apple_performance_results.csv', index=False)"
      ],
      "execution_count": null,
      "outputs": [
        {
          "output_type": "stream",
          "text": [
            "           Variabel_name  ...  R-Square value\n",
            "0                FastRNN  ...        0.878602\n",
            "1        LSTM (50 Units)  ...        0.891689\n",
            "2          LSTM (1 Unit)  ...        0.892137\n",
            "3                  Arima  ...       -4.654129\n",
            "4             FB_Prophet  ...        0.137382\n",
            "5             CNN_BiLSTM  ...        0.903171\n",
            "6     FASTRNN_CNN_BiLSTM  ...        0.904164\n",
            "7  LSTM_Attention_(ReLU)  ...        0.903171\n",
            "8               LSTM_CNN  ...        0.810513\n",
            "9           CNN_2_LSTM_2  ...        0.860106\n",
            "\n",
            "[10 rows x 5 columns]\n"
          ],
          "name": "stdout"
        }
      ]
    },
    {
      "cell_type": "code",
      "metadata": {
        "id": "qpq_CmVUytaE",
        "colab_type": "code",
        "colab": {
          "base_uri": "https://localhost:8080/",
          "height": 348
        },
        "outputId": "ca18c101-806b-4014-cb31-ff29f9cefc2c"
      },
      "source": [
        "df_final"
      ],
      "execution_count": null,
      "outputs": [
        {
          "output_type": "execute_result",
          "data": {
            "text/html": [
              "<div>\n",
              "<style scoped>\n",
              "    .dataframe tbody tr th:only-of-type {\n",
              "        vertical-align: middle;\n",
              "    }\n",
              "\n",
              "    .dataframe tbody tr th {\n",
              "        vertical-align: top;\n",
              "    }\n",
              "\n",
              "    .dataframe thead th {\n",
              "        text-align: right;\n",
              "    }\n",
              "</style>\n",
              "<table border=\"1\" class=\"dataframe\">\n",
              "  <thead>\n",
              "    <tr style=\"text-align: right;\">\n",
              "      <th></th>\n",
              "      <th>Variabel_name</th>\n",
              "      <th>RMSE</th>\n",
              "      <th>Time(in sec)</th>\n",
              "      <th>Description</th>\n",
              "      <th>R-Square value</th>\n",
              "    </tr>\n",
              "  </thead>\n",
              "  <tbody>\n",
              "    <tr>\n",
              "      <th>0</th>\n",
              "      <td>FastRNN</td>\n",
              "      <td>0.024014</td>\n",
              "      <td>3.15759</td>\n",
              "      <td>-</td>\n",
              "      <td>0.878602</td>\n",
              "    </tr>\n",
              "    <tr>\n",
              "      <th>1</th>\n",
              "      <td>LSTM (50 Units)</td>\n",
              "      <td>0.022683</td>\n",
              "      <td>7.48879</td>\n",
              "      <td>-</td>\n",
              "      <td>0.891689</td>\n",
              "    </tr>\n",
              "    <tr>\n",
              "      <th>2</th>\n",
              "      <td>LSTM (1 Unit)</td>\n",
              "      <td>0.022636</td>\n",
              "      <td>6.90582</td>\n",
              "      <td>-</td>\n",
              "      <td>0.892137</td>\n",
              "    </tr>\n",
              "    <tr>\n",
              "      <th>3</th>\n",
              "      <td>Arima</td>\n",
              "      <td>0.163886</td>\n",
              "      <td>-</td>\n",
              "      <td>-</td>\n",
              "      <td>-4.654129</td>\n",
              "    </tr>\n",
              "    <tr>\n",
              "      <th>4</th>\n",
              "      <td>FB_Prophet</td>\n",
              "      <td>0.064013</td>\n",
              "      <td>0.542825</td>\n",
              "      <td>-</td>\n",
              "      <td>0.137382</td>\n",
              "    </tr>\n",
              "    <tr>\n",
              "      <th>5</th>\n",
              "      <td>CNN_BiLSTM</td>\n",
              "      <td>0.021447</td>\n",
              "      <td>17.2251</td>\n",
              "      <td>conv1d + maxpooling + biLSTM + Dropout + dense</td>\n",
              "      <td>0.903171</td>\n",
              "    </tr>\n",
              "    <tr>\n",
              "      <th>6</th>\n",
              "      <td>FASTRNN_CNN_BiLSTM</td>\n",
              "      <td>0.021337</td>\n",
              "      <td>11.7473</td>\n",
              "      <td>FastCell + cov1D + Maxpooling(unit=1) + BiLSTM...</td>\n",
              "      <td>0.904164</td>\n",
              "    </tr>\n",
              "    <tr>\n",
              "      <th>7</th>\n",
              "      <td>LSTM_Attention_(ReLU)</td>\n",
              "      <td>0.021447</td>\n",
              "      <td>17.2251</td>\n",
              "      <td>Conv1d + BiLSTM + Dropout + [Dense]*2</td>\n",
              "      <td>0.903171</td>\n",
              "    </tr>\n",
              "    <tr>\n",
              "      <th>8</th>\n",
              "      <td>LSTM_CNN</td>\n",
              "      <td>0.030002</td>\n",
              "      <td>12.5301</td>\n",
              "      <td>LSTM + Conv1d + MaxPooling + Flatten + [Dense]*2</td>\n",
              "      <td>0.810513</td>\n",
              "    </tr>\n",
              "    <tr>\n",
              "      <th>9</th>\n",
              "      <td>CNN_2_LSTM_2</td>\n",
              "      <td>0.025779</td>\n",
              "      <td>17.8949</td>\n",
              "      <td>Dense + [Conv1D + MaxPooling1D]*2 + LSTM*2 + D...</td>\n",
              "      <td>0.860106</td>\n",
              "    </tr>\n",
              "  </tbody>\n",
              "</table>\n",
              "</div>"
            ],
            "text/plain": [
              "           Variabel_name  ...  R-Square value\n",
              "0                FastRNN  ...        0.878602\n",
              "1        LSTM (50 Units)  ...        0.891689\n",
              "2          LSTM (1 Unit)  ...        0.892137\n",
              "3                  Arima  ...       -4.654129\n",
              "4             FB_Prophet  ...        0.137382\n",
              "5             CNN_BiLSTM  ...        0.903171\n",
              "6     FASTRNN_CNN_BiLSTM  ...        0.904164\n",
              "7  LSTM_Attention_(ReLU)  ...        0.903171\n",
              "8               LSTM_CNN  ...        0.810513\n",
              "9           CNN_2_LSTM_2  ...        0.860106\n",
              "\n",
              "[10 rows x 5 columns]"
            ]
          },
          "metadata": {
            "tags": []
          },
          "execution_count": 227
        }
      ]
    },
    {
      "cell_type": "markdown",
      "metadata": {
        "id": "S1i0IcWifBly",
        "colab_type": "text"
      },
      "source": [
        "# New Section"
      ]
    },
    {
      "cell_type": "code",
      "metadata": {
        "id": "EYbwdWHZZui9",
        "colab_type": "code",
        "colab": {}
      },
      "source": [
        "predicted_results = pd.DataFrame(columns=['Test_Data','FastRNN'  ,'LSTM (50 Units)','LSTM (1 Unit)'  ,'Arima'  ,'FB_Prophet'  ,'CNN_BiLSTM'  ,'FASTRNN_CNN_BiLSTM'  ,'LSTM_Attention_(ReLU)', 'LSTM_CNN','CNN_2_LSTM_2' ])"
      ],
      "execution_count": null,
      "outputs": []
    },
    {
      "cell_type": "code",
      "metadata": {
        "id": "txp1xdpnPYsQ",
        "colab_type": "code",
        "colab": {}
      },
      "source": [
        "predicted_results['Test_Data']=np.squeeze(y_test)\n",
        "predicted_results['FastRNN']=np.squeeze(predictions_fastgrnn)\n",
        "predicted_results['LSTM (50 Units)']=np.squeeze(predictions_lstm)\n",
        "predicted_results['LSTM (1 Unit)']=np.squeeze(predictions_lstm_II)\n",
        "predicted_results['Arima']=np.squeeze(predictions)\n",
        "predicted_results['FB_Prophet']=np.squeeze(predictions_fb)\n",
        "predicted_results['CNN_BiLSTM']  =np.squeeze(predictions_CNN_LSTM_BiLSTM)\n",
        "\n",
        "predicted_results['FASTRNN_CNN_BiLSTM']=np.squeeze(predictions_fastrnn_hyb_CNN_BiLSTM)\n",
        "predicted_results['LSTM_Attention_(ReLU)']  =np.squeeze(predictions_CNN_LSTM_BiLSTM)\n",
        "\n",
        "predicted_results['LSTM_CNN']  =np.squeeze(predictions_model_new_cnn_lstm)\n",
        "predicted_results['CNN_2_LSTM_2']=np.squeeze(predictions_model_hybrid)\n",
        "\n",
        "\n"
      ],
      "execution_count": null,
      "outputs": []
    },
    {
      "cell_type": "code",
      "metadata": {
        "id": "lz9y9a-DQGe9",
        "colab_type": "code",
        "colab": {
          "base_uri": "https://localhost:8080/",
          "height": 215
        },
        "outputId": "eaa8ad6d-e90e-41c7-a4e1-1792a1e862f3"
      },
      "source": [
        "predicted_results.head()"
      ],
      "execution_count": null,
      "outputs": [
        {
          "output_type": "execute_result",
          "data": {
            "text/html": [
              "<div>\n",
              "<style scoped>\n",
              "    .dataframe tbody tr th:only-of-type {\n",
              "        vertical-align: middle;\n",
              "    }\n",
              "\n",
              "    .dataframe tbody tr th {\n",
              "        vertical-align: top;\n",
              "    }\n",
              "\n",
              "    .dataframe thead th {\n",
              "        text-align: right;\n",
              "    }\n",
              "</style>\n",
              "<table border=\"1\" class=\"dataframe\">\n",
              "  <thead>\n",
              "    <tr style=\"text-align: right;\">\n",
              "      <th></th>\n",
              "      <th>Test_Data</th>\n",
              "      <th>FastRNN</th>\n",
              "      <th>LSTM (50 Units)</th>\n",
              "      <th>LSTM (1 Unit)</th>\n",
              "      <th>Arima</th>\n",
              "      <th>FB_Prophet</th>\n",
              "      <th>CNN_BiLSTM</th>\n",
              "      <th>FASTRNN_CNN_BiLSTM</th>\n",
              "      <th>LSTM_Attention_(ReLU)</th>\n",
              "      <th>LSTM_CNN</th>\n",
              "      <th>CNN_2_LSTM_2</th>\n",
              "    </tr>\n",
              "  </thead>\n",
              "  <tbody>\n",
              "    <tr>\n",
              "      <th>0</th>\n",
              "      <td>32.419998</td>\n",
              "      <td>32.385895</td>\n",
              "      <td>32.393467</td>\n",
              "      <td>32.404980</td>\n",
              "      <td>32.390190</td>\n",
              "      <td>32.411060</td>\n",
              "      <td>32.395115</td>\n",
              "      <td>32.401352</td>\n",
              "      <td>32.395115</td>\n",
              "      <td>32.399288</td>\n",
              "      <td>32.422371</td>\n",
              "    </tr>\n",
              "    <tr>\n",
              "      <th>1</th>\n",
              "      <td>32.445000</td>\n",
              "      <td>32.403740</td>\n",
              "      <td>32.406414</td>\n",
              "      <td>32.419922</td>\n",
              "      <td>32.391153</td>\n",
              "      <td>32.413037</td>\n",
              "      <td>32.414597</td>\n",
              "      <td>32.417400</td>\n",
              "      <td>32.414597</td>\n",
              "      <td>32.410378</td>\n",
              "      <td>32.424957</td>\n",
              "    </tr>\n",
              "    <tr>\n",
              "      <th>2</th>\n",
              "      <td>32.455002</td>\n",
              "      <td>32.425957</td>\n",
              "      <td>32.434425</td>\n",
              "      <td>32.436607</td>\n",
              "      <td>32.391975</td>\n",
              "      <td>32.415211</td>\n",
              "      <td>32.438618</td>\n",
              "      <td>32.436649</td>\n",
              "      <td>32.438618</td>\n",
              "      <td>32.424660</td>\n",
              "      <td>32.442646</td>\n",
              "    </tr>\n",
              "    <tr>\n",
              "      <th>3</th>\n",
              "      <td>32.470001</td>\n",
              "      <td>32.445213</td>\n",
              "      <td>32.452415</td>\n",
              "      <td>32.447422</td>\n",
              "      <td>32.392705</td>\n",
              "      <td>32.417585</td>\n",
              "      <td>32.456219</td>\n",
              "      <td>32.453968</td>\n",
              "      <td>32.456219</td>\n",
              "      <td>32.436092</td>\n",
              "      <td>32.464439</td>\n",
              "    </tr>\n",
              "    <tr>\n",
              "      <th>4</th>\n",
              "      <td>32.485001</td>\n",
              "      <td>32.464470</td>\n",
              "      <td>32.470631</td>\n",
              "      <td>32.460136</td>\n",
              "      <td>32.393347</td>\n",
              "      <td>32.420163</td>\n",
              "      <td>32.472778</td>\n",
              "      <td>32.474476</td>\n",
              "      <td>32.472778</td>\n",
              "      <td>32.452953</td>\n",
              "      <td>32.481274</td>\n",
              "    </tr>\n",
              "  </tbody>\n",
              "</table>\n",
              "</div>"
            ],
            "text/plain": [
              "   Test_Data    FastRNN  ...   LSTM_CNN  CNN_2_LSTM_2\n",
              "0  32.419998  32.385895  ...  32.399288     32.422371\n",
              "1  32.445000  32.403740  ...  32.410378     32.424957\n",
              "2  32.455002  32.425957  ...  32.424660     32.442646\n",
              "3  32.470001  32.445213  ...  32.436092     32.464439\n",
              "4  32.485001  32.464470  ...  32.452953     32.481274\n",
              "\n",
              "[5 rows x 11 columns]"
            ]
          },
          "metadata": {
            "tags": []
          },
          "execution_count": 230
        }
      ]
    },
    {
      "cell_type": "code",
      "metadata": {
        "id": "4t1jiRewS2lc",
        "colab_type": "code",
        "colab": {}
      },
      "source": [
        "predicted_results.to_csv('Predicted_Values.csv', index=False)"
      ],
      "execution_count": null,
      "outputs": []
    },
    {
      "cell_type": "code",
      "metadata": {
        "id": "-63m8p45LkXP",
        "colab_type": "code",
        "colab": {}
      },
      "source": [
        ""
      ],
      "execution_count": null,
      "outputs": []
    },
    {
      "cell_type": "code",
      "metadata": {
        "id": "o0qw4P37RAxH",
        "colab_type": "code",
        "colab": {}
      },
      "source": [
        ""
      ],
      "execution_count": null,
      "outputs": []
    },
    {
      "cell_type": "code",
      "metadata": {
        "id": "M_2xP8oTRKTQ",
        "colab_type": "code",
        "colab": {}
      },
      "source": [
        ""
      ],
      "execution_count": null,
      "outputs": []
    },
    {
      "cell_type": "code",
      "metadata": {
        "id": "OMjjIhxCRLZm",
        "colab_type": "code",
        "colab": {}
      },
      "source": [
        ""
      ],
      "execution_count": null,
      "outputs": []
    }
  ]
}